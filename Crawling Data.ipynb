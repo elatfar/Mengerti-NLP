{
 "cells": [
  {
   "cell_type": "markdown",
   "metadata": {},
   "source": [
    "# Web Crawling\n",
    "created by Atmam Al Faruq\n",
    "\n",
    "Web crawling adalah suatu pekerjaan menjelajahi data pada web untuk memperoleh sebuah informasi. Proses ini dilakukan dengan sistem atau agent yang telah dipersiapkan untuk memperoleh informasi sesuai ketentuan yang dibuat.\n",
    "\n",
    "Pada kasus kali ini, akan digunakan library BeautifulSoup untuk parsing web."
   ]
  },
  {
   "cell_type": "code",
   "execution_count": 4,
   "metadata": {},
   "outputs": [
    {
     "name": "stderr",
     "output_type": "stream",
     "text": [
      "/usr/lib/python3/dist-packages/requests/__init__.py:80: RequestsDependencyWarning: urllib3 (1.25.7) or chardet (3.0.4) doesn't match a supported version!\n",
      "  RequestsDependencyWarning)\n"
     ]
    }
   ],
   "source": [
    "from bs4 import BeautifulSoup\n",
    "import requests\n",
    "\n",
    "url = \"https://www.detik.com/\"\n",
    "response = requests.get(url)\n",
    "\n",
    "soup = BeautifulSoup(response.content, \"html.parser\")\n",
    "\n",
    "#print(soup.prettify())"
   ]
  },
  {
   "cell_type": "markdown",
   "metadata": {},
   "source": [
    "## Mengambil data"
   ]
  },
  {
   "cell_type": "code",
   "execution_count": 5,
   "metadata": {},
   "outputs": [],
   "source": [
    "link_data = []\n",
    "\n",
    "for link in soup.find_all('a'):\n",
    "    link_data.append(link.get('href'))"
   ]
  },
  {
   "cell_type": "code",
   "execution_count": 6,
   "metadata": {},
   "outputs": [],
   "source": [
    "data_1 = []\n",
    "\n",
    "for artikel in soup.find_all('article'):\n",
    "    data_1.append(artikel.text.replace(\"\\n\",\"\"))"
   ]
  },
  {
   "cell_type": "code",
   "execution_count": 7,
   "metadata": {},
   "outputs": [
    {
     "data": {
      "text/plain": [
       "(['  Kata Dokter Soal Sakit Lambung Sebabkan Kematian Mendadak ',\n",
       "  '  Ngulik Santai Pelatih Timnas Asal Negeri Kpop Coach Shin ',\n",
       "  '  Kenangan dan Air Mata Anak-anak untuk Lina Mantan Istri Sule ',\n",
       "  '  Usai Nikah, Dipha Barus-Vanessa Budiharja Langsung Bulan Madu ke LA ',\n",
       "  '  Dituding Tertawakan Anies saat Inspeksi Banjir, Ini Kata Yusuf Mansur ',\n",
       "  '                        Geger Pria Garut Injak Kitab: Niat Buktikan Cinta Malah Berujung Penjara                    ',\n",
       "  '                        Pasukan Oranye Berjibaku dengan Lumpur Sisa Banjir di Pengadegan                    ',\n",
       "  ' 00:58  Anies Ikut Bersih-bersih Sisa Banjir di Kampung Makasar2 jam yang lalu',\n",
       "  ' 00:53  Mantul! Harga BBM Turun, Ini Daftarnya4 jam yang lalu',\n",
       "  ' 01:27  De Jong Dikartu Merah, Barca Gagal Menang3 jam yang lalu',\n",
       "  '                        Anies vs Basuki soal Banjir, Erick Thohir: BUMN Dukung Siapa Saja                    ',\n",
       "  '                        Tak Mau Hitung Lagi, Kolektor Botol Coca-Cola Ini Sudah Habiskan Rp 515 Juta                    ',\n",
       "  '                        Susi Ikut Komentar soal Natuna                    ',\n",
       "  '                        5 Penyakit yang Gejalanya Mirip Serangan Jantung                    ',\n",
       "  '                        Zuckerberg dan Istri Kepergok Belanja di Toko Diskon                    ',\n",
       "  ' 4 Foto                Foto News                        Jokowi Kirim 6.000 Sembako Untuk Korban Longsor di Bogor                    ',\n",
       "  '                        Arca Ganesha Jadi Petunjuk Ada Ratusan Candi Tersembunyi di Dieng                    ',\n",
       "  '                        Yanto Basna Selangkah Lagi Berkostum PT Prachuap FC                    ',\n",
       "  '                        Dituding Tertawakan Anies saat Inspeksi Banjir, Ini Kata Yusuf Mansur                    ',\n",
       "  ' 6 Foto                Foto News                        Potret Langit Selandia Baru yang Menguning Imbas Karhutla Australia                    ',\n",
       "  '                        Trump Ancam Hantam 52 Situs Iran Jika AS Diserang                    ',\n",
       "  '                        Cuaca Buruk, Heli Jokowi Balik Kanan Saat Hendak Kunjungi Korban Longsor Bogor                    ',\n",
       "  '                        Korban Banjir di Pengadegan Butuh Pakaian Dalam: Dari Kemarin Belum Ganti                    ',\n",
       "  '                        Layanan Derek Gratis untuk Mobil Korban Banjir                    ',\n",
       "  '                        Kapal Nelayan China Masih Bertahan di Natuna, TNI Tambah Kekuatan                    ',\n",
       "  ' 20Detik                        Video Polisi Gerebek Gudang Miras Oplosan di Surabaya                    ',\n",
       "  '                        Jakarta Punya Sederet Proyek Antibanjir, Ini Daftarnya                    ',\n",
       "  '                        Desa Sukajaya Bogor Terisolir, Jokowi Kirim 6.000 Paket Sembako Pakai Heli                    ',\n",
       "  '                        Menhub Targetkan 1 Tahun Sulap Terminal Bus Amplas Medan Jadi Modern                    ',\n",
       "  '                        Harga Pertamax Cs Turun, Tetap Gunakan BBM Sesuai Spek Mesin                    ',\n",
       "  '                        Tim Gen Halilintar Disebut Minta Liburan Gratis, Ini Jawaban Atta                    ',\n",
       "  '                        Masuk Keajaiban Alam Terindah Dunia, Bali Tak Mau Berpuas Diri                    ',\n",
       "  'Jeda                        Seorang Introvert Bermimpi Menjadi Pemimpin                    ',\n",
       "  '#banjir',\n",
       "  '#anies baswedan',\n",
       "  '#normalisasi ciliwung',\n",
       "  '#mantan istri sule',\n",
       "  '#natuna',\n",
       "  '#1Kasus Suami Hilang Diduga Diculik di Malang Ternyata PrankdetikNews | 1 jam yang lalu',\n",
       "  '#2Warga Puji Anies Saat Kerja Bakti: Good Bener, Gubernur Rasa PresidendetikNews | 1 jam yang lalu',\n",
       "  '#3Roket Serang Markas Militer yang Tampung Pasukan AS di IrakdetikNews | 1 jam yang lalu',\n",
       "  '#4Viral Marahi Relawan yang Bantu Korban Banjir, Camat Ciledug Minta MaafdetikNews | 3 jam yang lalu',\n",
       "  '#5Jakarta Punya Sederet Proyek Antibanjir, Ini DaftarnyadetikFinance | 35 menit yang lalu'],\n",
       " ['#',\n",
       "  'https://www.detik.com/?tagfrom=framebar',\n",
       "  'https://www.detik.com/terpopuler?tag_from=framebar',\n",
       "  'https://news.detik.com/kolom/kirim?tag_from=framebar',\n",
       "  'https://www.detik.com/transmedia?tag_from=framebar',\n",
       "  'https://news.detik.com?tag_from=framebar',\n",
       "  'https://finance.detik.com?tag_from=framebar',\n",
       "  'https://inet.detik.com?tag_from=framebar',\n",
       "  'https://hot.detik.com?tag_from=framebar',\n",
       "  'https://sport.detik.com?tag_from=framebar',\n",
       "  'https://sport.detik.com/sepakbola?tag_from=framebar',\n",
       "  'https://oto.detik.com?tag_from=framebar',\n",
       "  'https://travel.detik.com?tag_from=framebar',\n",
       "  'https://food.detik.com?tag_from=framebar',\n",
       "  'https://health.detik.com?tag_from=framebar',\n",
       "  'https://wolipop.detik.com?tag_from=framebar',\n",
       "  'https://x.detik.com?tag_from=framebar',\n",
       "  'https://20.detik.com?tag_from=framebar',\n",
       "  'https://foto.detik.com?tag_from=framebar',\n",
       "  'https://pasangmata.detik.com?tag_from=framebar',\n",
       "  'https://adsmart.detik.com?tag_from=framebar',\n",
       "  'http://forum.detik.com?tag_from=framebar',\n",
       "  'https://event.detik.com?tag_from=framebar',\n",
       "  'https://poin.detikshop.com?tag_from=framebar',\n",
       "  'https://www.transsnowworld.com',\n",
       "  'https://www.transstudiobali.com',\n",
       "  'https://www.transstudiocibubur.com',\n",
       "  'https://www.cnnindonesia.com?tag_from=framebar',\n",
       "  'https://www.cnbcindonesia.com?tag_from=framebar',\n",
       "  'https://www.haibunda.com?tag_from=framebar',\n",
       "  'https://www.insertlive.com?tag_from=framebar',\n",
       "  'https://www.beautynesia.id?tag_from=framebar',\n",
       "  'https://www.femaledaily.com?tag_from=framebar',\n",
       "  'https://www.detik.com',\n",
       "  'https://news.detik.com/?tag_from=wp_firstnav_detikNews',\n",
       "  'https://finance.detik.com/?tag_from=wp_firstnav_detikFinance',\n",
       "  'https://hot.detik.com/?tag_from=wp_firstnav_detikHot',\n",
       "  'https://inet.detik.com/?tag_from=wp_firstnav_detikInet',\n",
       "  'https://sport.detik.com/?tag_from=wp_firstnav_detikSport',\n",
       "  'https://oto.detik.com/?tag_from=wp_firstnav_detikOto',\n",
       "  'https://travel.detik.com/?tag_from=wp_firstnav_detikTravel',\n",
       "  'https://food.detik.com/?tag_from=wp_firstnav_detikFood',\n",
       "  'https://health.detik.com/?tag_from=wp_firstnav_detikHealth',\n",
       "  'https://wolipop.detik.com/?tag_from=wp_firstnav_Wolipop',\n",
       "  'https://20.detik.com/?tag_from=wp_firstnav_20Detik',\n",
       "  'https://www.detik.com/transmedia/?tag_from=wp_secnav_Live TV',\n",
       "  'https://adsmart.detik.com/?tag_from=wp_secnav_Adsmart',\n",
       "  'https://foto.detik.com/?tag_from=wp_secnav_Foto',\n",
       "  'https://news.detik.com/x/?tag_from=wp_secnav_detikX',\n",
       "  'https://sport.detik.com/sepakbola/?tag_from=wp_secnav_Sepakbola',\n",
       "  'https://pasangmata.detik.com/?tag_from=wp_secnav_Pasangmata',\n",
       "  'https://www.detik.com/tag/hikmah/?tag_from=wp_secnav_Hikmah',\n",
       "  'https://www.detik.com/',\n",
       "  '#',\n",
       "  'https://health.detik.com/read/2020/01/05/095301/4846923/763/kata-dokter-soal-sakit-lambung-sebabkan-kematian-mendadak?tag_from=wp_beritautama',\n",
       "  'https://health.detik.com/read/2020/01/05/095301/4846923/763/kata-dokter-soal-sakit-lambung-sebabkan-kematian-mendadak?tag_from=wp_beritautama',\n",
       "  'https://tv.detik.com/readvideo/2020/01/04/020055/200104002/190725546/persiapan-garuda-indonesia-menghadapi-piala-dunia-dengan-pelatih-baru-?tag_from=wp_beritautama',\n",
       "  'https://tv.detik.com/readvideo/2020/01/04/020055/200104002/190725546/persiapan-garuda-indonesia-menghadapi-piala-dunia-dengan-pelatih-baru-?tag_from=wp_beritautama',\n",
       "  'https://hot.detik.com/read/2020/01/05/083355/4846869/230/kenangan-dan-air-mata-anak-anak-untuk-lina-mantan-istri-sule?tag_from=wp_beritautama',\n",
       "  'https://hot.detik.com/read/2020/01/05/083355/4846869/230/kenangan-dan-air-mata-anak-anak-untuk-lina-mantan-istri-sule?tag_from=wp_beritautama',\n",
       "  'https://hot.detik.com/read/2020/01/04/215126/4846751/230/usai-nikah-dipha-barus-vanessa-budiharja-langsung-bulan-madu-ke-la?tag_from=wp_beritautama',\n",
       "  'https://hot.detik.com/read/2020/01/04/215126/4846751/230/usai-nikah-dipha-barus-vanessa-budiharja-langsung-bulan-madu-ke-la?tag_from=wp_beritautama',\n",
       "  'https://hot.detik.com/read/2020/01/05/084147/4846872/230/dituding-tertawakan-anies-saat-inspeksi-banjir-ini-kata-yusuf-mansur?tag_from=wp_beritautama',\n",
       "  'https://hot.detik.com/read/2020/01/05/084147/4846872/230/dituding-tertawakan-anies-saat-inspeksi-banjir-ini-kata-yusuf-mansur?tag_from=wp_beritautama',\n",
       "  'https://news.detik.com/indeks?tag_from=wp_nhl_indeks',\n",
       "  '#',\n",
       "  '#',\n",
       "  '#',\n",
       "  '#',\n",
       "  '#',\n",
       "  '#',\n",
       "  'https://20.detik.com/?tag_from=wp_belt_videoTerpopuler',\n",
       "  'https://20.detik.com/detikflash/20200105-200105016/anies-ikut-bersih-bersih-sisa-banjir-di-kampung-makasar?tag_from=wp_belt_videoTerpopuler',\n",
       "  'https://20.detik.com/detikflash/20200105-200105016/anies-ikut-bersih-bersih-sisa-banjir-di-kampung-makasar?tag_from=wp_belt_videoTerpopuler',\n",
       "  'https://20.detik.com/detikflash/20200105-200105012/mantul-harga-bbm-turun-ini-daftarnya?tag_from=wp_belt_videoTerpopuler',\n",
       "  'https://20.detik.com/detikflash/20200105-200105012/mantul-harga-bbm-turun-ini-daftarnya?tag_from=wp_belt_videoTerpopuler',\n",
       "  'https://20.detik.com/sport-buzz/20200105-200105014/de-jong-dikartu-merah-barca-gagal-menang?tag_from=wp_belt_videoTerpopuler',\n",
       "  'https://20.detik.com/sport-buzz/20200105-200105014/de-jong-dikartu-merah-barca-gagal-menang?tag_from=wp_belt_videoTerpopuler',\n",
       "  '#',\n",
       "  '#',\n",
       "  '#',\n",
       "  '#',\n",
       "  '#',\n",
       "  '#',\n",
       "  '#',\n",
       "  '#',\n",
       "  '#',\n",
       "  '#',\n",
       "  '#',\n",
       "  '#',\n",
       "  '#',\n",
       "  '#',\n",
       "  '#',\n",
       "  '#',\n",
       "  '#',\n",
       "  '#',\n",
       "  '#',\n",
       "  '#',\n",
       "  '#',\n",
       "  '#',\n",
       "  '#',\n",
       "  '#',\n",
       "  '#',\n",
       "  '#',\n",
       "  '#',\n",
       "  '#',\n",
       "  '#',\n",
       "  '#',\n",
       "  '#',\n",
       "  '#',\n",
       "  '#',\n",
       "  '#',\n",
       "  '#',\n",
       "  '#',\n",
       "  '#',\n",
       "  '#',\n",
       "  '#',\n",
       "  '#',\n",
       "  '#',\n",
       "  '#',\n",
       "  '#',\n",
       "  '#',\n",
       "  '#',\n",
       "  '#',\n",
       "  '#',\n",
       "  '#',\n",
       "  '#',\n",
       "  '#',\n",
       "  '#',\n",
       "  '#',\n",
       "  '#',\n",
       "  '#',\n",
       "  'https://www.detik.com/',\n",
       "  'https://www.detik.com/tag/banjir?tag_from=wp_tagpopuler',\n",
       "  'https://www.detik.com/tag/anies-baswedan?tag_from=wp_tagpopuler',\n",
       "  'https://www.detik.com/tag/normalisasi-ciliwung?tag_from=wp_tagpopuler',\n",
       "  'https://www.detik.com/tag/mantan-istri-sule?tag_from=wp_tagpopuler',\n",
       "  'https://www.detik.com/tag/natuna?tag_from=wp_tagpopuler',\n",
       "  'https://news.detik.com/berita-jawa-timur/d-4847009/kasus-suami-hilang-diduga-diculik-di-malang-ternyata-prank?tag_from=wp_cb_mostPopular_list',\n",
       "  'https://news.detik.com/berita/d-4846986/warga-puji-anies-saat-kerja-bakti-good-bener-gubernur-rasa-presiden?tag_from=wp_cb_mostPopular_list',\n",
       "  'https://news.detik.com/internasional/d-4846995/roket-serang-markas-militer-yang-tampung-pasukan-as-di-irak?tag_from=wp_cb_mostPopular_list',\n",
       "  'https://news.detik.com/berita/d-4846919/viral-marahi-relawan-yang-bantu-korban-banjir-camat-ciledug-minta-maaf?tag_from=wp_cb_mostPopular_list',\n",
       "  'https://finance.detik.com/infrastruktur/d-4847029/jakarta-punya-sederet-proyek-antibanjir-ini-daftarnya?tag_from=wp_cb_mostPopular_list',\n",
       "  'https://www.detik.com/terpopuler?tag_from=wp_cb_mostPopular_more',\n",
       "  'https://www.detik.com/',\n",
       "  'https://www.facebook.com/detikcom',\n",
       "  'https://twitter.com/detikcom',\n",
       "  'https://instagram.com/detikcom/',\n",
       "  'https://www.linkedin.com/company/detik-com/',\n",
       "  'https://www.youtube.com/channel/UCuMAjEaSMj7q7YLf0xW1MjQ',\n",
       "  'https://news.detik.com',\n",
       "  'https://finance.detik.com',\n",
       "  'https://inet.detik.com',\n",
       "  'https://hot.detik.com',\n",
       "  'https://sport.detik.com',\n",
       "  'https://sport.detik.com/sepakbola',\n",
       "  'https://oto.detik.com',\n",
       "  'https://travel.detik.com',\n",
       "  'https://food.detik.com',\n",
       "  'https://health.detik.com',\n",
       "  'https://wolipop.detik.com',\n",
       "  'https://news.detik.com/x/',\n",
       "  'https://20.detik.com',\n",
       "  'https://foto.detik.com',\n",
       "  'https://pasangmata.detik.com',\n",
       "  'https://adsmart.detik.com',\n",
       "  'http://forum.detik.com',\n",
       "  'https://event.detik.com',\n",
       "  'https://poin.detikshop.com/',\n",
       "  'https://www.transsnowworld.com/',\n",
       "  'https://www.detik.com/redaksi',\n",
       "  'https://www.detik.com/pedoman-media',\n",
       "  'https://www.detik.com/karir',\n",
       "  'https://www.detik.com/kotak-pos',\n",
       "  'https://www.detik.com/media-partner',\n",
       "  'https://www.detik.com/info-iklan',\n",
       "  'https://www.detik.com/privacy-policy',\n",
       "  'https://www.detik.com/disclaimer',\n",
       "  'https://www.cnnindonesia.com',\n",
       "  'https://www.cnbcindonesia.com',\n",
       "  'https://www.haibunda.com',\n",
       "  'https://www.insertlive.com/',\n",
       "  'https://beautynesia.id',\n",
       "  'https://femaledaily.com'])"
      ]
     },
     "execution_count": 7,
     "metadata": {},
     "output_type": "execute_result"
    }
   ],
   "source": [
    "data_1, link_data "
   ]
  },
  {
   "cell_type": "code",
   "execution_count": 8,
   "metadata": {},
   "outputs": [],
   "source": [
    "data_artikel = []\n",
    "data_artikel_2 = []\n",
    "\n",
    "for artikel_1 in soup.find_all('article'):\n",
    "    data_artikel.append(artikel_1)\n",
    "for artikel_2 in data_artikel:\n",
    "    artikel_2 = artikel_2.find('a')\n",
    "    data_artikel_2.append(artikel_2.get('href'))"
   ]
  },
  {
   "cell_type": "markdown",
   "metadata": {},
   "source": [
    "## Merapikan data"
   ]
  },
  {
   "cell_type": "code",
   "execution_count": 9,
   "metadata": {},
   "outputs": [],
   "source": [
    "link_artikel = []\n",
    "\n",
    "for n in data_artikel_2:\n",
    "    if n != '#':\n",
    "        link_artikel.append(n)"
   ]
  },
  {
   "cell_type": "code",
   "execution_count": 10,
   "metadata": {},
   "outputs": [
    {
     "data": {
      "text/plain": [
       "['https://health.detik.com/read/2020/01/05/095301/4846923/763/kata-dokter-soal-sakit-lambung-sebabkan-kematian-mendadak?tag_from=wp_beritautama',\n",
       " 'https://tv.detik.com/readvideo/2020/01/04/020055/200104002/190725546/persiapan-garuda-indonesia-menghadapi-piala-dunia-dengan-pelatih-baru-?tag_from=wp_beritautama',\n",
       " 'https://hot.detik.com/read/2020/01/05/083355/4846869/230/kenangan-dan-air-mata-anak-anak-untuk-lina-mantan-istri-sule?tag_from=wp_beritautama',\n",
       " 'https://hot.detik.com/read/2020/01/04/215126/4846751/230/usai-nikah-dipha-barus-vanessa-budiharja-langsung-bulan-madu-ke-la?tag_from=wp_beritautama',\n",
       " 'https://hot.detik.com/read/2020/01/05/084147/4846872/230/dituding-tertawakan-anies-saat-inspeksi-banjir-ini-kata-yusuf-mansur?tag_from=wp_beritautama',\n",
       " 'https://20.detik.com/detikflash/20200105-200105016/anies-ikut-bersih-bersih-sisa-banjir-di-kampung-makasar?tag_from=wp_belt_videoTerpopuler',\n",
       " 'https://20.detik.com/detikflash/20200105-200105012/mantul-harga-bbm-turun-ini-daftarnya?tag_from=wp_belt_videoTerpopuler',\n",
       " 'https://20.detik.com/sport-buzz/20200105-200105014/de-jong-dikartu-merah-barca-gagal-menang?tag_from=wp_belt_videoTerpopuler',\n",
       " 'https://www.detik.com/tag/banjir?tag_from=wp_tagpopuler',\n",
       " 'https://www.detik.com/tag/anies-baswedan?tag_from=wp_tagpopuler',\n",
       " 'https://www.detik.com/tag/normalisasi-ciliwung?tag_from=wp_tagpopuler',\n",
       " 'https://www.detik.com/tag/mantan-istri-sule?tag_from=wp_tagpopuler',\n",
       " 'https://www.detik.com/tag/natuna?tag_from=wp_tagpopuler',\n",
       " 'https://news.detik.com/berita-jawa-timur/d-4847009/kasus-suami-hilang-diduga-diculik-di-malang-ternyata-prank?tag_from=wp_cb_mostPopular_list',\n",
       " 'https://news.detik.com/berita/d-4846986/warga-puji-anies-saat-kerja-bakti-good-bener-gubernur-rasa-presiden?tag_from=wp_cb_mostPopular_list',\n",
       " 'https://news.detik.com/internasional/d-4846995/roket-serang-markas-militer-yang-tampung-pasukan-as-di-irak?tag_from=wp_cb_mostPopular_list',\n",
       " 'https://news.detik.com/berita/d-4846919/viral-marahi-relawan-yang-bantu-korban-banjir-camat-ciledug-minta-maaf?tag_from=wp_cb_mostPopular_list',\n",
       " 'https://finance.detik.com/infrastruktur/d-4847029/jakarta-punya-sederet-proyek-antibanjir-ini-daftarnya?tag_from=wp_cb_mostPopular_list']"
      ]
     },
     "execution_count": 10,
     "metadata": {},
     "output_type": "execute_result"
    }
   ],
   "source": [
    "link_artikel"
   ]
  },
  {
   "cell_type": "code",
   "execution_count": 11,
   "metadata": {},
   "outputs": [
    {
     "name": "stdout",
     "output_type": "stream",
     "text": [
      "https://www.detik.com/?tagfrom=framebar\n",
      "https://www.detik.com/terpopuler?tag_from=framebar\n",
      "https://news.detik.com/kolom/kirim?tag_from=framebar\n",
      "https://www.detik.com/transmedia?tag_from=framebar\n",
      "https://news.detik.com?tag_from=framebar\n",
      "https://finance.detik.com?tag_from=framebar\n",
      "https://inet.detik.com?tag_from=framebar\n",
      "https://hot.detik.com?tag_from=framebar\n",
      "https://sport.detik.com?tag_from=framebar\n",
      "https://sport.detik.com/sepakbola?tag_from=framebar\n",
      "https://oto.detik.com?tag_from=framebar\n",
      "https://travel.detik.com?tag_from=framebar\n",
      "https://food.detik.com?tag_from=framebar\n",
      "https://health.detik.com?tag_from=framebar\n",
      "https://wolipop.detik.com?tag_from=framebar\n",
      "https://x.detik.com?tag_from=framebar\n",
      "https://20.detik.com?tag_from=framebar\n",
      "https://foto.detik.com?tag_from=framebar\n",
      "https://pasangmata.detik.com?tag_from=framebar\n",
      "https://adsmart.detik.com?tag_from=framebar\n",
      "http://forum.detik.com?tag_from=framebar\n",
      "https://event.detik.com?tag_from=framebar\n",
      "https://poin.detikshop.com?tag_from=framebar\n",
      "https://www.transsnowworld.com\n",
      "https://www.transstudiobali.com\n",
      "https://www.transstudiocibubur.com\n",
      "https://www.cnnindonesia.com?tag_from=framebar\n",
      "https://www.cnbcindonesia.com?tag_from=framebar\n",
      "https://www.haibunda.com?tag_from=framebar\n",
      "https://www.insertlive.com?tag_from=framebar\n",
      "https://www.beautynesia.id?tag_from=framebar\n",
      "https://www.femaledaily.com?tag_from=framebar\n",
      "https://www.detik.com\n",
      "https://news.detik.com/?tag_from=wp_firstnav_detikNews\n",
      "https://finance.detik.com/?tag_from=wp_firstnav_detikFinance\n",
      "https://hot.detik.com/?tag_from=wp_firstnav_detikHot\n",
      "https://inet.detik.com/?tag_from=wp_firstnav_detikInet\n",
      "https://sport.detik.com/?tag_from=wp_firstnav_detikSport\n",
      "https://oto.detik.com/?tag_from=wp_firstnav_detikOto\n",
      "https://travel.detik.com/?tag_from=wp_firstnav_detikTravel\n",
      "https://food.detik.com/?tag_from=wp_firstnav_detikFood\n",
      "https://health.detik.com/?tag_from=wp_firstnav_detikHealth\n",
      "https://wolipop.detik.com/?tag_from=wp_firstnav_Wolipop\n",
      "https://20.detik.com/?tag_from=wp_firstnav_20Detik\n",
      "https://www.detik.com/transmedia/?tag_from=wp_secnav_Live TV\n",
      "https://adsmart.detik.com/?tag_from=wp_secnav_Adsmart\n",
      "https://foto.detik.com/?tag_from=wp_secnav_Foto\n",
      "https://news.detik.com/x/?tag_from=wp_secnav_detikX\n",
      "https://sport.detik.com/sepakbola/?tag_from=wp_secnav_Sepakbola\n",
      "https://pasangmata.detik.com/?tag_from=wp_secnav_Pasangmata\n",
      "https://www.detik.com/tag/hikmah/?tag_from=wp_secnav_Hikmah\n",
      "https://www.detik.com/\n",
      "https://health.detik.com/read/2020/01/05/095301/4846923/763/kata-dokter-soal-sakit-lambung-sebabkan-kematian-mendadak?tag_from=wp_beritautama\n",
      "https://health.detik.com/read/2020/01/05/095301/4846923/763/kata-dokter-soal-sakit-lambung-sebabkan-kematian-mendadak?tag_from=wp_beritautama\n",
      "https://tv.detik.com/readvideo/2020/01/04/020055/200104002/190725546/persiapan-garuda-indonesia-menghadapi-piala-dunia-dengan-pelatih-baru-?tag_from=wp_beritautama\n",
      "https://tv.detik.com/readvideo/2020/01/04/020055/200104002/190725546/persiapan-garuda-indonesia-menghadapi-piala-dunia-dengan-pelatih-baru-?tag_from=wp_beritautama\n",
      "https://hot.detik.com/read/2020/01/05/083355/4846869/230/kenangan-dan-air-mata-anak-anak-untuk-lina-mantan-istri-sule?tag_from=wp_beritautama\n",
      "https://hot.detik.com/read/2020/01/05/083355/4846869/230/kenangan-dan-air-mata-anak-anak-untuk-lina-mantan-istri-sule?tag_from=wp_beritautama\n",
      "https://hot.detik.com/read/2020/01/04/215126/4846751/230/usai-nikah-dipha-barus-vanessa-budiharja-langsung-bulan-madu-ke-la?tag_from=wp_beritautama\n",
      "https://hot.detik.com/read/2020/01/04/215126/4846751/230/usai-nikah-dipha-barus-vanessa-budiharja-langsung-bulan-madu-ke-la?tag_from=wp_beritautama\n",
      "https://hot.detik.com/read/2020/01/05/084147/4846872/230/dituding-tertawakan-anies-saat-inspeksi-banjir-ini-kata-yusuf-mansur?tag_from=wp_beritautama\n",
      "https://hot.detik.com/read/2020/01/05/084147/4846872/230/dituding-tertawakan-anies-saat-inspeksi-banjir-ini-kata-yusuf-mansur?tag_from=wp_beritautama\n",
      "https://news.detik.com/indeks?tag_from=wp_nhl_indeks\n",
      "https://20.detik.com/?tag_from=wp_belt_videoTerpopuler\n",
      "https://20.detik.com/detikflash/20200105-200105016/anies-ikut-bersih-bersih-sisa-banjir-di-kampung-makasar?tag_from=wp_belt_videoTerpopuler\n",
      "https://20.detik.com/detikflash/20200105-200105016/anies-ikut-bersih-bersih-sisa-banjir-di-kampung-makasar?tag_from=wp_belt_videoTerpopuler\n",
      "https://20.detik.com/detikflash/20200105-200105012/mantul-harga-bbm-turun-ini-daftarnya?tag_from=wp_belt_videoTerpopuler\n",
      "https://20.detik.com/detikflash/20200105-200105012/mantul-harga-bbm-turun-ini-daftarnya?tag_from=wp_belt_videoTerpopuler\n",
      "https://20.detik.com/sport-buzz/20200105-200105014/de-jong-dikartu-merah-barca-gagal-menang?tag_from=wp_belt_videoTerpopuler\n",
      "https://20.detik.com/sport-buzz/20200105-200105014/de-jong-dikartu-merah-barca-gagal-menang?tag_from=wp_belt_videoTerpopuler\n",
      "https://www.detik.com/\n",
      "https://www.detik.com/tag/banjir?tag_from=wp_tagpopuler\n",
      "https://www.detik.com/tag/anies-baswedan?tag_from=wp_tagpopuler\n",
      "https://www.detik.com/tag/normalisasi-ciliwung?tag_from=wp_tagpopuler\n",
      "https://www.detik.com/tag/mantan-istri-sule?tag_from=wp_tagpopuler\n",
      "https://www.detik.com/tag/natuna?tag_from=wp_tagpopuler\n",
      "https://news.detik.com/berita-jawa-timur/d-4847009/kasus-suami-hilang-diduga-diculik-di-malang-ternyata-prank?tag_from=wp_cb_mostPopular_list\n",
      "https://news.detik.com/berita/d-4846986/warga-puji-anies-saat-kerja-bakti-good-bener-gubernur-rasa-presiden?tag_from=wp_cb_mostPopular_list\n",
      "https://news.detik.com/internasional/d-4846995/roket-serang-markas-militer-yang-tampung-pasukan-as-di-irak?tag_from=wp_cb_mostPopular_list\n",
      "https://news.detik.com/berita/d-4846919/viral-marahi-relawan-yang-bantu-korban-banjir-camat-ciledug-minta-maaf?tag_from=wp_cb_mostPopular_list\n",
      "https://finance.detik.com/infrastruktur/d-4847029/jakarta-punya-sederet-proyek-antibanjir-ini-daftarnya?tag_from=wp_cb_mostPopular_list\n",
      "https://www.detik.com/terpopuler?tag_from=wp_cb_mostPopular_more\n",
      "https://www.detik.com/\n",
      "https://www.facebook.com/detikcom\n",
      "https://twitter.com/detikcom\n",
      "https://instagram.com/detikcom/\n",
      "https://www.linkedin.com/company/detik-com/\n",
      "https://www.youtube.com/channel/UCuMAjEaSMj7q7YLf0xW1MjQ\n",
      "https://news.detik.com\n",
      "https://finance.detik.com\n",
      "https://inet.detik.com\n",
      "https://hot.detik.com\n",
      "https://sport.detik.com\n",
      "https://sport.detik.com/sepakbola\n",
      "https://oto.detik.com\n",
      "https://travel.detik.com\n",
      "https://food.detik.com\n",
      "https://health.detik.com\n",
      "https://wolipop.detik.com\n",
      "https://news.detik.com/x/\n",
      "https://20.detik.com\n",
      "https://foto.detik.com\n",
      "https://pasangmata.detik.com\n",
      "https://adsmart.detik.com\n",
      "http://forum.detik.com\n",
      "https://event.detik.com\n",
      "https://poin.detikshop.com/\n",
      "https://www.transsnowworld.com/\n",
      "https://www.detik.com/redaksi\n",
      "https://www.detik.com/pedoman-media\n",
      "https://www.detik.com/karir\n",
      "https://www.detik.com/kotak-pos\n",
      "https://www.detik.com/media-partner\n",
      "https://www.detik.com/info-iklan\n",
      "https://www.detik.com/privacy-policy\n",
      "https://www.detik.com/disclaimer\n",
      "https://www.cnnindonesia.com\n",
      "https://www.cnbcindonesia.com\n",
      "https://www.haibunda.com\n",
      "https://www.insertlive.com/\n",
      "https://beautynesia.id\n",
      "https://femaledaily.com\n"
     ]
    }
   ],
   "source": [
    "n_link = soup.select('a')\n",
    "\n",
    "for n in n_link:\n",
    "    if n.get('href') != '#':\n",
    "        print(n.get('href'))"
   ]
  },
  {
   "cell_type": "code",
   "execution_count": 12,
   "metadata": {},
   "outputs": [
    {
     "data": {
      "text/plain": [
       "['https://health.detik.com/read/2020/01/05/095301/4846923/763/kata-dokter-soal-sakit-lambung-sebabkan-kematian-mendadak?tag_from=wp_beritautama',\n",
       " 'https://tv.detik.com/readvideo/2020/01/04/020055/200104002/190725546/persiapan-garuda-indonesia-menghadapi-piala-dunia-dengan-pelatih-baru-?tag_from=wp_beritautama',\n",
       " 'https://hot.detik.com/read/2020/01/05/083355/4846869/230/kenangan-dan-air-mata-anak-anak-untuk-lina-mantan-istri-sule?tag_from=wp_beritautama',\n",
       " 'https://hot.detik.com/read/2020/01/04/215126/4846751/230/usai-nikah-dipha-barus-vanessa-budiharja-langsung-bulan-madu-ke-la?tag_from=wp_beritautama',\n",
       " 'https://hot.detik.com/read/2020/01/05/084147/4846872/230/dituding-tertawakan-anies-saat-inspeksi-banjir-ini-kata-yusuf-mansur?tag_from=wp_beritautama',\n",
       " 'https://20.detik.com/detikflash/20200105-200105016/anies-ikut-bersih-bersih-sisa-banjir-di-kampung-makasar?tag_from=wp_belt_videoTerpopuler',\n",
       " 'https://20.detik.com/detikflash/20200105-200105012/mantul-harga-bbm-turun-ini-daftarnya?tag_from=wp_belt_videoTerpopuler',\n",
       " 'https://20.detik.com/sport-buzz/20200105-200105014/de-jong-dikartu-merah-barca-gagal-menang?tag_from=wp_belt_videoTerpopuler',\n",
       " 'https://news.detik.com/berita-jawa-timur/d-4847009/kasus-suami-hilang-diduga-diculik-di-malang-ternyata-prank?tag_from=wp_cb_mostPopular_list',\n",
       " 'https://news.detik.com/berita/d-4846986/warga-puji-anies-saat-kerja-bakti-good-bener-gubernur-rasa-presiden?tag_from=wp_cb_mostPopular_list',\n",
       " 'https://news.detik.com/internasional/d-4846995/roket-serang-markas-militer-yang-tampung-pasukan-as-di-irak?tag_from=wp_cb_mostPopular_list',\n",
       " 'https://news.detik.com/berita/d-4846919/viral-marahi-relawan-yang-bantu-korban-banjir-camat-ciledug-minta-maaf?tag_from=wp_cb_mostPopular_list',\n",
       " 'https://finance.detik.com/infrastruktur/d-4847029/jakarta-punya-sederet-proyek-antibanjir-ini-daftarnya?tag_from=wp_cb_mostPopular_list']"
      ]
     },
     "execution_count": 12,
     "metadata": {},
     "output_type": "execute_result"
    }
   ],
   "source": [
    "link_avail =[ x for x in link_artikel if len(x) > 80 ]\n",
    "link_avail"
   ]
  },
  {
   "cell_type": "markdown",
   "metadata": {},
   "source": [
    "## Pengambilan konten"
   ]
  },
  {
   "cell_type": "code",
   "execution_count": 54,
   "metadata": {},
   "outputs": [
    {
     "data": {
      "text/plain": [
       "'Jakarta - Mantan istri pelawak Sule, Lina, meninggal dunia. Awalnya sempat dikabarkan Lina meninggal karena serangan jantung namun kemudian sang anak, Rizky Febrian, menyebut hal itu tidak benar.\"Sebenernya nggak ada sakit jantung. Cuma cepat sesak, lambungnya naik, butuh oksigen. Kontrol juga biasa, ketika check up jantung aman, paru-paru aman,\" ucap Rizky saat ditemui di rumah duka, Jalan Neptunus, Margahayu Raya, Kota Bandung, Sabtu (4/1/2020).\"(Sakit apa) Cuma itu balik lagi ke Allah, jadi bukan penyakit jantung,\" lanjutnya.Baca juga: Ingat! Gejala Sakit Jantung yang Begini Kerap Disangka Nyeri LambungTerkait hal tersebut muncul spekulasi Lina meninggal karena riwayat penyakit lambungnya. Ahli kesehatan jantung dr Vito A Damay, SpJP (K), MKes, FIHA, FICA, dari Siloam Hospital Karawaci berkomentar bahwa penyakit lambung tidak bisa menyebabkan kematian mendadak.\"Sakit lambung saja harusnya tidak menyebabkan kematian mendadak... Sudden death alami memang umumnya (karena) penyakit jantung dan pembuluh darah,\" kata dr Vito pada detikcom, Sabtu (4/1/2019).Keluhan seperti sakit di bagian lambung, sesak dada, hingga tiba-tiba hilang kesadaran disebut dr Vito kemungkinan tanda-tanda serangan jantung. Apalagi bila seorang pasien memiliki faktor risiko seperti hipertensi.\"Ingat bahwa penyakit jantung dan pembuluh darah adalah pembunuh nomor satu perempuan,\" pungkas dr Vito.Baca juga: Mantan Istri Sule Pernah Sakit Lambung, Bisa Sebabkan Serangan Jantung? Simak Video \"Menepuk Lengan Kiri Dapat Atasi Jantung, Hoax atau Tidak?\"[Gambas:Video 20detik](fds/kna)mantan istri sulemantan istri sule meninggal dunialina mantan istri sulepenyebab mantan istri sule meninggalserangan jantungnyeri lambung  '"
      ]
     },
     "execution_count": 54,
     "metadata": {},
     "output_type": "execute_result"
    }
   ],
   "source": [
    "# Pertama uji coba terhadap satu link\n",
    "response_1 = requests.get(link_avail[0])\n",
    "\n",
    "soup_1 = BeautifulSoup(response_1.content, \"html.parser\")\n",
    "\n",
    "# Konten yang diambil berada didalam tag dengan id = 'detikdetailtext'\n",
    "teks = soup_1.find(id='detikdetailtext')\n",
    "\n",
    "#Menghilangkan tag style dan script\n",
    "for style in teks(\"style\"):\n",
    "    style.decompose()\n",
    "\n",
    "for script in teks(\"script\"):\n",
    "    script.decompose()\n",
    "    \n",
    "teks = teks.text.replace('\\n','')\n",
    "teks"
   ]
  },
  {
   "cell_type": "code",
   "execution_count": 55,
   "metadata": {},
   "outputs": [
    {
     "name": "stdout",
     "output_type": "stream",
     "text": [
      " Link : https://tv.detik.com/readvideo/2020/01/04/020055/200104002/190725546/persiapan-garuda-indonesia-menghadapi-piala-dunia-dengan-pelatih-baru-?tag_from=wp_beritautama | tidak memiliki konten\n",
      " Link : https://20.detik.com/detikflash/20200105-200105016/anies-ikut-bersih-bersih-sisa-banjir-di-kampung-makasar?tag_from=wp_belt_videoTerpopuler | tidak memiliki konten\n",
      " Link : https://20.detik.com/detikflash/20200105-200105012/mantul-harga-bbm-turun-ini-daftarnya?tag_from=wp_belt_videoTerpopuler | tidak memiliki konten\n",
      " Link : https://20.detik.com/sport-buzz/20200105-200105014/de-jong-dikartu-merah-barca-gagal-menang?tag_from=wp_belt_videoTerpopuler | tidak memiliki konten\n",
      " Link : https://news.detik.com/berita-jawa-timur/d-4847009/kasus-suami-hilang-diduga-diculik-di-malang-ternyata-prank?tag_from=wp_cb_mostPopular_list | tidak memiliki konten\n",
      " Link : https://news.detik.com/berita/d-4846986/warga-puji-anies-saat-kerja-bakti-good-bener-gubernur-rasa-presiden?tag_from=wp_cb_mostPopular_list | tidak memiliki konten\n",
      " Link : https://news.detik.com/internasional/d-4846995/roket-serang-markas-militer-yang-tampung-pasukan-as-di-irak?tag_from=wp_cb_mostPopular_list | tidak memiliki konten\n",
      " Link : https://news.detik.com/berita/d-4846919/viral-marahi-relawan-yang-bantu-korban-banjir-camat-ciledug-minta-maaf?tag_from=wp_cb_mostPopular_list | tidak memiliki konten\n",
      "['Jakarta - Mantan istri pelawak Sule, Lina, meninggal dunia. Awalnya sempat dikabarkan Lina meninggal karena serangan jantung namun kemudian sang anak, Rizky Febrian, menyebut hal itu tidak benar.\"Sebenernya nggak ada sakit jantung. Cuma cepat sesak, lambungnya naik, butuh oksigen. Kontrol juga biasa, ketika check up jantung aman, paru-paru aman,\" ucap Rizky saat ditemui di rumah duka, Jalan Neptunus, Margahayu Raya, Kota Bandung, Sabtu (4/1/2020).\"(Sakit apa) Cuma itu balik lagi ke Allah, jadi bukan penyakit jantung,\" lanjutnya.Baca juga: Ingat! Gejala Sakit Jantung yang Begini Kerap Disangka Nyeri LambungTerkait hal tersebut muncul spekulasi Lina meninggal karena riwayat penyakit lambungnya. Ahli kesehatan jantung dr Vito A Damay, SpJP (K), MKes, FIHA, FICA, dari Siloam Hospital Karawaci berkomentar bahwa penyakit lambung tidak bisa menyebabkan kematian mendadak.\"Sakit lambung saja harusnya tidak menyebabkan kematian mendadak... Sudden death alami memang umumnya (karena) penyakit jantung dan pembuluh darah,\" kata dr Vito pada detikcom, Sabtu (4/1/2019).Keluhan seperti sakit di bagian lambung, sesak dada, hingga tiba-tiba hilang kesadaran disebut dr Vito kemungkinan tanda-tanda serangan jantung. Apalagi bila seorang pasien memiliki faktor risiko seperti hipertensi.\"Ingat bahwa penyakit jantung dan pembuluh darah adalah pembunuh nomor satu perempuan,\" pungkas dr Vito.Baca juga: Mantan Istri Sule Pernah Sakit Lambung, Bisa Sebabkan Serangan Jantung? Simak Video \"Menepuk Lengan Kiri Dapat Atasi Jantung, Hoax atau Tidak?\"[Gambas:Video 20detik](fds/kna)mantan istri sulemantan istri sule meninggal dunialina mantan istri sulepenyebab mantan istri sule meninggalserangan jantungnyeri lambung  ', None, 'Jakarta - Lina, mantan istri Sule, meninggal dunia pada Sabtu (4/1). Sang mendiang dimakamkan di Bandung, dan dihadiri oleh anak-anak serta Sule.Prosesi pemakaman pun berlangsung haru. Sule juga tampak sibuk membantu proses penurunan hingga penguburan mantan istrinya itu.Tak hanya itu, Rizky Febian juga ikut membantu proses pemakaman. Iki, sapaannya, bahkan sampai turun ke liang lahat ibundanya.Mata Sule dan Iki pun terlihat sembab. Apalagi anak keduanya Putri Delina yang tampak amat terpukul atas kepergian sang ibu.\"Nggak ada firasat sih. Kemarin juga lagi ngobrol sama Iki (Rizki Febian) malem-malem. Begitu tidur, Iki ngabarin dibawa ke rumah sakit,\" ucap Sule kepada detikcom saat ditemui di rumah duka.Baca juga: Tangis Rizky Febian Pecah Saat Cerita Kenangan Manis Bersama IbunyaSaat bicara soal kenangan yang ia habiskan bersama sang ibunda, Rizky Febian tak bisa menahan air matanya. Ia berterima kasih atas dukungan Lina dalam kariernya di dunia hiburan.\"Banyaklah (momen berkesan). Sampai detik ini tuh pelajaran ilmu didikan semuanya tidak lepas dari support mamah,\" ucap Iki.\"Iki bisa ada di titik ini karena mamah lah, aku ada di dunia entertain, ada di dunia, karena mamah lah, karena doa paling dijabah adalah doa orang tua,\" tuturnya.Selain kesan selama hidup, Iki juga sering mendapatkan pesan-pesan dari ibunya. Menurut Iki, ibunya berpesan agar Iki yang sudah terkenal tetap rendah hati.\"Selalu bisa menghargai sesama, harus bisa menyatukan saudara, harus bisa rendah hati dengan apa yang Iki punya. Banyak saudara-saudara yang susah dan masih harus dibantu, dan alhamdulillah Iki dididik sama ayah dan mamah itu harus seperti itu,\" kata dia.Baca juga: Duka atas Kepergian Lina Mantan Istri SuleSimak Video \"Mantan Istri Sule Disebut Hamil Duluan Sebelum Nikah\"[Gambas:Video 20detik](dal/dal)suleround uplina sulemantan istri sulemantan istri sule meninggal duniaPhoto GallerycelebProses Pemakaman Lina Mantan Istri Sule yang Penuh HarucelebProses Pemakaman Lina Mantan Istri Sule yang Penuh HarucelebProses Pemakaman Lina Mantan Istri Sule yang Penuh HarucelebProses Pemakaman Lina Mantan Istri Sule yang Penuh HarucelebProses Pemakaman Lina Mantan Istri Sule yang Penuh HarucelebProses Pemakaman Lina Mantan Istri Sule yang Penuh HarucelebPotret Kesedihan Sule dan Rizky Febian atas Kepergian LinacelebPotret Kesedihan Sule dan Rizky Febian atas Kepergian LinacelebPotret Kesedihan Sule dan Rizky Febian atas Kepergian LinacelebPotret Kesedihan Sule dan Rizky Febian atas Kepergian LinacelebPotret Kesedihan Sule dan Rizky Febian atas Kepergian LinacelebPotret Kesedihan Sule dan Rizky Febian atas Kepergian LinacelebMulan Jadi Anggota DPR, Kemesraan Onadio dan IstricelebMulan Jadi Anggota DPR, Kemesraan Onadio dan IstricelebMulan Jadi Anggota DPR, Kemesraan Onadio dan IstricelebMulan Jadi Anggota DPR, Kemesraan Onadio dan IstricelebMulan Jadi Anggota DPR, Kemesraan Onadio dan IstriphotoAyo Sule, Rizky Febian Minta Kamu Buruan Nikah LagiphotoAyo Sule, Rizky Febian Minta Kamu Buruan Nikah LagiphotoAyo Sule, Rizky Febian Minta Kamu Buruan Nikah LagiphotoAyo Sule, Rizky Febian Minta Kamu Buruan Nikah LagiphotoAyo Sule, Rizky Febian Minta Kamu Buruan Nikah LagiphotoAyo Sule, Rizky Febian Minta Kamu Buruan Nikah LagicelebBaby Shima Sebut Sule Marah Kepadanya, Gara-gara Apa?celebBaby Shima Sebut Sule Marah Kepadanya, Gara-gara Apa?celebBaby Shima Sebut Sule Marah Kepadanya, Gara-gara Apa?celebBaby Shima Sebut Sule Marah Kepadanya, Gara-gara Apa?celebBaby Shima Sebut Sule Marah Kepadanya, Gara-gara Apa?celebBaby Shima Sebut Sule Marah Kepadanya, Gara-gara Apa?celebPesona Baby Shima, Rekan Duet SulecelebPesona Baby Shima, Rekan Duet SulecelebPesona Baby Shima, Rekan Duet SulecelebPesona Baby Shima, Rekan Duet SulecelebPesona Baby Shima, Rekan Duet SulecelebPesona Baby Shima, Rekan Duet SulecelebPesona Baby Shima, Rekan Duet SulecelebJangan Baper! Tak Hanya Naomi Zaskia, Sule Juga Peluk Baby ShimacelebJangan Baper! Tak Hanya Naomi Zaskia, Sule Juga Peluk Baby ShimacelebJangan Baper! Tak Hanya Naomi Zaskia, Sule Juga Peluk Baby ShimacelebJangan Baper! Tak Hanya Naomi Zaskia, Sule Juga Peluk Baby ShimacelebJangan Baper! Tak Hanya Naomi Zaskia, Sule Juga Peluk Baby ShimacelebJangan Baper! Tak Hanya Naomi Zaskia, Sule Juga Peluk Baby ShimacelebDisambut Pelukan saat Kembali, Ini Momen Bahagia Andre Taulany dan SulecelebDisambut Pelukan saat Kembali, Ini Momen Bahagia Andre Taulany dan SulecelebDisambut Pelukan saat Kembali, Ini Momen Bahagia Andre Taulany dan SulecelebDisambut Pelukan saat Kembali, Ini Momen Bahagia Andre Taulany dan SulecelebDisambut Pelukan saat Kembali, Ini Momen Bahagia Andre Taulany dan SulecelebDisambut Pelukan saat Kembali, Ini Momen Bahagia Andre Taulany dan SulecelebDisambut Pelukan saat Kembali, Ini Momen Bahagia Andre Taulany dan SulecelebDisambut Pelukan saat Kembali, Ini Momen Bahagia Andre Taulany dan SulecelebSule Dekat dengan Baby Shima, Ini Pendapat Naomi ZaskiacelebSule Dekat dengan Baby Shima, Ini Pendapat Naomi ZaskiacelebSule Dekat dengan Baby Shima, Ini Pendapat Naomi ZaskiacelebSule Dekat dengan Baby Shima, Ini Pendapat Naomi ZaskiacelebSule Dekat dengan Baby Shima, Ini Pendapat Naomi ZaskiacelebSule Dekat dengan Baby Shima, Ini Pendapat Naomi ZaskiacelebSule Dekat dengan Baby Shima, Ini Pendapat Naomi ZaskiacelebSeperti Istana, Begini Kediaman Sule di BekasicelebSeperti Istana, Begini Kediaman Sule di BekasicelebSeperti Istana, Begini Kediaman Sule di BekasicelebSeperti Istana, Begini Kediaman Sule di BekasicelebSeperti Istana, Begini Kediaman Sule di BekasicelebSeperti Istana, Begini Kediaman Sule di BekasicelebSeperti Istana, Begini Kediaman Sule di BekasicelebSeperti Istana, Begini Kediaman Sule di BekasicelebSeperti Istana, Begini Kediaman Sule di BekasicelebSeperti Istana, Begini Kediaman Sule di BekasicelebSule Curhat Pasca Cerai hingga Rilis Lagu Bareng Adik IparcelebSule Curhat Pasca Cerai hingga Rilis Lagu Bareng Adik IparcelebSule Curhat Pasca Cerai hingga Rilis Lagu Bareng Adik IparcelebSule Curhat Pasca Cerai hingga Rilis Lagu Bareng Adik IparcelebSule Curhat Pasca Cerai hingga Rilis Lagu Bareng Adik IparcelebSule Curhat Pasca Cerai hingga Rilis Lagu Bareng Adik IparcelebKemesraan Sule dan Suci, Model di Video Klip \\'Gara-gara Dia\\'celebKemesraan Sule dan Suci, Model di Video Klip \\'Gara-gara Dia\\'celebKemesraan Sule dan Suci, Model di Video Klip \\'Gara-gara Dia\\'celebKemesraan Sule dan Suci, Model di Video Klip \\'Gara-gara Dia\\'celebKemesraan Sule dan Suci, Model di Video Klip \\'Gara-gara Dia\\'celebKalimat Haru Rizky Febian di Foto Bersama KeluargacelebKalimat Haru Rizky Febian di Foto Bersama KeluargacelebKalimat Haru Rizky Febian di Foto Bersama KeluargacelebKalimat Haru Rizky Febian di Foto Bersama KeluargacelebKalimat Haru Rizky Febian di Foto Bersama KeluargacelebKalimat Haru Rizky Febian di Foto Bersama KeluargacelebKalimat Haru Rizky Febian di Foto Bersama KeluargacelebKalimat Haru Rizky Febian di Foto Bersama KeluargacelebFoto Kedekatan Lina Sule dan Keluarga TeddycelebFoto Kedekatan Lina Sule dan Keluarga TeddycelebFoto Kedekatan Lina Sule dan Keluarga TeddycelebFoto Kedekatan Lina Sule dan Keluarga TeddycelebFoto Kedekatan Lina Sule dan Keluarga TeddycelebFoto Kedekatan Lina Sule dan Keluarga TeddycelebFoto Kedekatan Lina Sule dan Keluarga TeddycelebSule di Sidang Perceraian, Naik Alphard dan Ajang Selfie WargacelebSule di Sidang Perceraian, Naik Alphard dan Ajang Selfie WargacelebSule di Sidang Perceraian, Naik Alphard dan Ajang Selfie WargacelebSule di Sidang Perceraian, Naik Alphard dan Ajang Selfie WargacelebSule di Sidang Perceraian, Naik Alphard dan Ajang Selfie WargacelebIni Lho Moge Harley Sule yang Jadi Sebab Lina Gugat CeraicelebIni Lho Moge Harley Sule yang Jadi Sebab Lina Gugat CeraicelebIni Lho Moge Harley Sule yang Jadi Sebab Lina Gugat CeraicelebIni Lho Moge Harley Sule yang Jadi Sebab Lina Gugat CeraicelebIni Lho Moge Harley Sule yang Jadi Sebab Lina Gugat CeraicelebIstana Sule yang Konon Senilai Rp 15 M & Sederet \\'Kuda\\' MewahnyacelebIstana Sule yang Konon Senilai Rp 15 M & Sederet \\'Kuda\\' MewahnyacelebIstana Sule yang Konon Senilai Rp 15 M & Sederet \\'Kuda\\' MewahnyacelebIstana Sule yang Konon Senilai Rp 15 M & Sederet \\'Kuda\\' MewahnyacelebIstana Sule yang Konon Senilai Rp 15 M & Sederet \\'Kuda\\' MewahnyacelebIstana Sule yang Konon Senilai Rp 15 M & Sederet \\'Kuda\\' MewahnyacelebIstana Sule yang Konon Senilai Rp 15 M & Sederet \\'Kuda\\' MewahnyacelebIstana Sule yang Konon Senilai Rp 15 M & Sederet \\'Kuda\\' MewahnyacelebIstana Sule yang Konon Senilai Rp 15 M & Sederet \\'Kuda\\' MewahnyacelebKemesraan Sule & Lina Tinggal Kenangan, Avengers Tato-an BarengcelebKemesraan Sule & Lina Tinggal Kenangan, Avengers Tato-an BarengcelebKemesraan Sule & Lina Tinggal Kenangan, Avengers Tato-an BarengcelebKemesraan Sule & Lina Tinggal Kenangan, Avengers Tato-an BarengcelebKemesraan Sule & Lina Tinggal Kenangan, Avengers Tato-an BarengcelebKemesraan Sule & Lina Tinggal Kenangan, Avengers Tato-an BarengcelebKemesraan Sule & Lina Tinggal Kenangan, Avengers Tato-an BarengcelebKemesraan Sule & Lina Tinggal Kenangan, Avengers Tato-an BarengcelebKemesraan Sule & Lina Tinggal Kenangan, Avengers Tato-an BarengcelebSaat sang Istri Beri Kejutan Sule di Ulang TahunnyacelebSaat sang Istri Beri Kejutan Sule di Ulang TahunnyacelebSaat sang Istri Beri Kejutan Sule di Ulang TahunnyacelebSaat sang Istri Beri Kejutan Sule di Ulang TahunnyacelebSaat sang Istri Beri Kejutan Sule di Ulang TahunnyacelebSaat sang Istri Beri Kejutan Sule di Ulang TahunnyacelebSule Digugat Cerai, Intip Lagi Kebersamaannya dengan IstricelebSule Digugat Cerai, Intip Lagi Kebersamaannya dengan IstricelebSule Digugat Cerai, Intip Lagi Kebersamaannya dengan IstricelebSule Digugat Cerai, Intip Lagi Kebersamaannya dengan IstricelebSule Digugat Cerai, Intip Lagi Kebersamaannya dengan IstricelebSule Digugat Cerai, Intip Lagi Kebersamaannya dengan IstricelebSule Digugat Cerai, Intip Lagi Kebersamaannya dengan Istri ', 'Jakarta - Dipha Barus dan Vanessa Budiharja resmi menjadi suami-istri. Keduanya baru saja melangsungkan pernikahan di Los Angels, Amerika Serikat.Usai menikah, Dipha Barus dan istrinya itu langsung melanjutkan bulan madu di sana. Hal itu diketahui dari manajernya, Tri Wardoyo.\"Iya mungkin (honey moon),\" kata Tri Wardoyo saat dihubungi, Sabtu (4/1/2020).Dipha Barus rencananya akan menikmati kehidupan barunya itu selama sebulan penuh. Setelah itu, ia baru akan kembali untuk bekerja.\"Jadi ada liburan, sama nanti Dipha Barus ada sesi sama Ultra Music untuk single selanjutnya. mungkin sebulan,\" Tri Wardoyo menandaskan.Baca juga: Dikontrak Ultra Records, Dipha Barus: Nggak Mikir Go InternasionalSimak Video \"Selamat! Dipha Barus Resmi Menikah dengan Vanessa\"[Gambas:Video 20detik](hnh/dal)dipha barusdipha barus menikahPhoto Galleryon-stageSound of Tri: Iringan Musik dan Kemewahan Electrical Foreston-stageSound of Tri: Iringan Musik dan Kemewahan Electrical Foreston-stageSound of Tri: Iringan Musik dan Kemewahan Electrical Foreston-stageSound of Tri: Iringan Musik dan Kemewahan Electrical Foreston-stageSound of Tri: Iringan Musik dan Kemewahan Electrical Foreston-stageSound of Tri: Iringan Musik dan Kemewahan Electrical Foreston-stageSound of Tri: Iringan Musik dan Kemewahan Electrical Foreston-stageShake Your Body ! Dipha Barus Tutup d\\'HOT Music Dayon-stageShake Your Body ! Dipha Barus Tutup d\\'HOT Music Dayon-stageShake Your Body ! Dipha Barus Tutup d\\'HOT Music Dayon-stageShake Your Body ! Dipha Barus Tutup d\\'HOT Music Dayon-stageShake Your Body ! Dipha Barus Tutup d\\'HOT Music Dayon-stageShake Your Body ! Dipha Barus Tutup d\\'HOT Music Dayon-stageShake Your Body ! Dipha Barus Tutup d\\'HOT Music Dayon-stageShake Your Body ! Dipha Barus Tutup d\\'HOT Music Dayon-stageJangan Kasih Kendor! Dipha Barus Hentak DWP 2016 Hari Keduaon-stageJangan Kasih Kendor! Dipha Barus Hentak DWP 2016 Hari Keduaon-stageJangan Kasih Kendor! Dipha Barus Hentak DWP 2016 Hari Keduaon-stageJangan Kasih Kendor! Dipha Barus Hentak DWP 2016 Hari Keduaon-stageJangan Kasih Kendor! Dipha Barus Hentak DWP 2016 Hari Keduaon-stageJangan Kasih Kendor! Dipha Barus Hentak DWP 2016 Hari Kedua ', 'Jakarta - Ustaz Yusuf Mansur mendadak di-bully di Instagram. Hal itu dikarenakan dirinya diduga telah melakukan tindakan yang tak menyenangkan ke Gubernur Jakarta Anies Baswedan.Dalam sebuah foto, Yusuf Mansur terlihat memberikan emoji tertawa saat melihat Instagram Live Anies Baswedan yang sedang inspeksi banjir di Cawang, Jakarta Timur. Memang ada tiga simbol tertawa dalam komentar Yusuf.Namun, Yusuf Mansur merasa tak pernah menertawakan Anies Baswedan. Sambil menjelaskan kepada netizen di media sosial, ia mengaku ada yang sengaja ingin menjahatinya.\"Abis ngertawain anis gimana tadi rasanya dibulli,\" komen akun @iam_ayu.12.Baca juga: Kerap Diserang Berita Hoax, Yusuf Mansur Tetap Bersyukur\"Itu hoax bosku sayang. Ada yg ngedit2. Jd pict itu palsu. Tp gpp. Udah keliatan. Ada yg mau bentur2in. Dan seperti biasa, ga mau nerima penjelasan hehehe. Udah saya ig in jg berkali2. Its oke,\" balas Yusuf.Sang ulama mengaku awalnya mengira komentar menertawakan itu benar ditulisnya. Tapi setelah dicek lagi, ia menemukan kebenaran dan tak pernah menertawakan, tapi mengirim doa ke Anies Baswedan.\"Semula saya pikir saya kepeleset ngetik. Sbg bentuk baik sangka. Masa nuduh orang. Tp kemudian kerja. Saya jg minta bbrp kwn melototin dg seksama. Apa iya ada emot begitu dan binggo!! Yang ada justru 2x doa,\" tuturnya.Yusuf Mansur masih punya bukti soal tak pernah menertawakan Anies Baswedan. Kalau masih juga tak percaya, ia tak mempermasalahkannya.\"Kami msh simpen live lengkapnya pak @aniesbaswedan lengkap dg segala komennya. Dan sekali lagi, ga ada emot itu. Mksh ya. Gpp jg ga percaya hehe,\" katanya.Baca juga: Yusuf Mansur Unggah Penyanyi Cantik AS Mualaf yang Lantunkan Al BaqarahSimak Video \"Tinjau Titik Banjir di Duri Kosambi, Gubernur Anies Diteriaki Warga\"[Gambas:Video 20detik](mau/dal)yusuf mansuranies baswedanbanjirbanjir 1 januari 2020Photo GallerycelebAjak Anggota DPRD, Eko Patrio Temui Korban BanjircelebAjak Anggota DPRD, Eko Patrio Temui Korban BanjircelebAjak Anggota DPRD, Eko Patrio Temui Korban BanjircelebAjak Anggota DPRD, Eko Patrio Temui Korban BanjircelebAjak Anggota DPRD, Eko Patrio Temui Korban BanjircelebAjak Anggota DPRD, Eko Patrio Temui Korban BanjircultureMakna di Balik Seni Bambu Getah Getih Karya Joko AviantocultureMakna di Balik Seni Bambu Getah Getih Karya Joko AviantocultureMakna di Balik Seni Bambu Getah Getih Karya Joko AviantocultureMakna di Balik Seni Bambu Getah Getih Karya Joko AviantocultureMakna di Balik Seni Bambu Getah Getih Karya Joko AviantocultureMakna di Balik Seni Bambu Getah Getih Karya Joko AviantocultureMakna di Balik Seni Bambu Getah Getih Karya Joko AviantocultureMakna di Balik Seni Bambu Getah Getih Karya Joko AviantocelebJenazah Ustaz Arifin Ilham Disambut Tokoh, Ulama dan SahabatcelebJenazah Ustaz Arifin Ilham Disambut Tokoh, Ulama dan SahabatcelebJenazah Ustaz Arifin Ilham Disambut Tokoh, Ulama dan SahabatcelebJenazah Ustaz Arifin Ilham Disambut Tokoh, Ulama dan SahabatcelebJenazah Ustaz Arifin Ilham Disambut Tokoh, Ulama dan SahabatcelebJenazah Ustaz Arifin Ilham Disambut Tokoh, Ulama dan SahabatcelebJenazah Ustaz Arifin Ilham Disambut Tokoh, Ulama dan SahabatcelebJenazah Ustaz Arifin Ilham Disambut Tokoh, Ulama dan SahabatcelebJenazah Ustaz Arifin Ilham Disambut Tokoh, Ulama dan SahabatcultureLebih Dekat dengan Ledania, Seniman Cantik yang Muralnya Diresmikan AniescultureLebih Dekat dengan Ledania, Seniman Cantik yang Muralnya Diresmikan AniescultureLebih Dekat dengan Ledania, Seniman Cantik yang Muralnya Diresmikan AniescultureLebih Dekat dengan Ledania, Seniman Cantik yang Muralnya Diresmikan AniescultureLebih Dekat dengan Ledania, Seniman Cantik yang Muralnya Diresmikan AniescultureLebih Dekat dengan Ledania, Seniman Cantik yang Muralnya Diresmikan AniescultureAnies dan Instalasi Bambu Joko Avianto untuk Asian Games 2018cultureAnies dan Instalasi Bambu Joko Avianto untuk Asian Games 2018cultureAnies dan Instalasi Bambu Joko Avianto untuk Asian Games 2018cultureAnies dan Instalasi Bambu Joko Avianto untuk Asian Games 2018cultureAnies dan Instalasi Bambu Joko Avianto untuk Asian Games 2018cultureAnies dan Instalasi Bambu Joko Avianto untuk Asian Games 2018cultureAnies dan Instalasi Bambu Joko Avianto untuk Asian Games 2018cultureSiapakah Arsitek Bandung yang Komentari \\'Beautifikasi\\' Anies?cultureSiapakah Arsitek Bandung yang Komentari \\'Beautifikasi\\' Anies?cultureSiapakah Arsitek Bandung yang Komentari \\'Beautifikasi\\' Anies?cultureSiapakah Arsitek Bandung yang Komentari \\'Beautifikasi\\' Anies?cultureSiapakah Arsitek Bandung yang Komentari \\'Beautifikasi\\' Anies?cultureSiapakah Arsitek Bandung yang Komentari \\'Beautifikasi\\' Anies?cultureSiapakah Arsitek Bandung yang Komentari \\'Beautifikasi\\' Anies?cultureBeda \\'Beautifikasi\\' Anies-Sandi dan Kampung CibunutcultureBeda \\'Beautifikasi\\' Anies-Sandi dan Kampung CibunutcultureBeda \\'Beautifikasi\\' Anies-Sandi dan Kampung CibunutcultureBeda \\'Beautifikasi\\' Anies-Sandi dan Kampung CibunutcultureBeda \\'Beautifikasi\\' Anies-Sandi dan Kampung CibunutcultureBeda \\'Beautifikasi\\' Anies-Sandi dan Kampung CibunutcultureBeda \\'Beautifikasi\\' Anies-Sandi dan Kampung CibunutcultureBeda \\'Beautifikasi\\' Anies-Sandi dan Kampung CibunutcultureBeda \\'Beautifikasi\\' Anies-Sandi dan Kampung CibunutcultureBeda \\'Beautifikasi\\' Anies-Sandi dan Kampung CibunutcelebKeseruan Local Stand Up Day, 30 Komika hingga Anies BaswedancelebKeseruan Local Stand Up Day, 30 Komika hingga Anies BaswedancelebKeseruan Local Stand Up Day, 30 Komika hingga Anies BaswedancelebKeseruan Local Stand Up Day, 30 Komika hingga Anies BaswedancelebKeseruan Local Stand Up Day, 30 Komika hingga Anies BaswedancelebKeseruan Local Stand Up Day, 30 Komika hingga Anies BaswedancelebKeseruan Local Stand Up Day, 30 Komika hingga Anies BaswedancelebSiapa Kathy Indera yang Sewot ke Anies Baswedan?celebSiapa Kathy Indera yang Sewot ke Anies Baswedan?celebSiapa Kathy Indera yang Sewot ke Anies Baswedan?celebSiapa Kathy Indera yang Sewot ke Anies Baswedan?celebSiapa Kathy Indera yang Sewot ke Anies Baswedan?celebSiapa Kathy Indera yang Sewot ke Anies Baswedan?celebSiapa Kathy Indera yang Sewot ke Anies Baswedan?celebSiapa Kathy Indera yang Sewot ke Anies Baswedan?celebManisnya Putri Yusuf Mansur yang Ingin Beli YouTube!celebManisnya Putri Yusuf Mansur yang Ingin Beli YouTube!celebManisnya Putri Yusuf Mansur yang Ingin Beli YouTube!celebManisnya Putri Yusuf Mansur yang Ingin Beli YouTube!celebManisnya Putri Yusuf Mansur yang Ingin Beli YouTube!celebManisnya Putri Yusuf Mansur yang Ingin Beli YouTube!celebManisnya Putri Yusuf Mansur yang Ingin Beli YouTube!photoLimbad Bantu Korban Banjir di JakartaphotoShinta Bachir Berikan Bantuan Korban BanjirphotoSiti Liza Beri Bantuan pada Korban BanjirphotoBanjir Artis di Peluncuran Miniblog ', None, None, None, None, None, None, None, \"Jakarta - DKI Jakarta memiliki sejumlah proyek infrastruktur untuk menanggulangi bencana banjir di ibu kota. Bahkan, proyek-proyek ini sudah diinisiasikan sebelum Gubernur DKI Jakarta Anies Baswedan menjabat. Mulai dari multi purpose deep tunnel (MPDT) alias gorong-gorong raksasa yang sudah dicanangkan sejak tahun 2007, di mana kala itu Sutiyoso Gubernurnya. Mengintip catatan detikcom, berikut sederet proyek infrastruktur 'anti'banjir Jakarta:1. Multi Purpose Deep Tunnel (MPDT) atau Terowongan 'Raksasa' Anti BanjirProyek Multi Purpose Deep Tunnel atau terowongan 'raksasa' di Jakarta selain bermanfaat untuk atasi banjir juga bisa dipakai untuk jalan tol. Rencananya terowongan berdiameter 12 meter ini juga akan terhubung dengan jalan tol lainnya.Dalam perencanaannya, tol yang akan membujur sepanjang terowongan ini akan terhubung dengan jaringan tol Lingkar Luar Jakarta I (JORR I) dan dalam kota.Baca juga: Luhut Minta DKI Lebih Berani Bebaskan Lahan CiliwungTerowongan ini akan membentang sepanjang 23 Km ini hanya akan ada 2 pintu keluar masuk kendaraan, yakni di Balai Kambang Condet Jakarta Timur dan di Tanjung Priok Jakarta Utara.Selain itu, jalan tol ini pun diharapkan bisa berkontribusi terhadap pendapatan atau pengembalian modal dari total investasi pembangun mega proyek ini, yang diperkirakan mencapai Rp 26 triliun.Proyek yang dijagokan sebagai penangkal banjir multi fungsi merupakan gagasan Gubernur DKI Jakarta periode 1997-2007 Sutiyoso. Pada tahun 2013, proyek yang tak ada kabarnya itu kemudian disuarakan kembali ketika Joko Widodo (Jokowi) masih menjabat sebagai Gubernur DKi Jakarta.Menteri PU saat itu Djoko Kirmanto optimistis proyek ini dapat direalisasikan. Pasalnya, di negara-negara lain konsep terowongan multiguna ini sudah diterapkan. Contohnya seperti Malaysia, Amerika dan Jepang. Proyek deep tunnel kemudian dimasukkan dalam Rencana Pembangunan Jangka Menengah Daerah (RPJMD) tahun 2013-2017. Namun, sejak tahun 2015, proyek tersebut kembali 'mentah'. Deputi Menteri Koodinator Bidang Perekonomian bidang Infrastruktur Lucky Eko Wuryanto kala itu menyebut proyek tersebut tidak layak secara finansial. Cenderung mahal dan tidak akan begitu efektif mengatasi curah hujan yang tinggi di Jakarta dalam musim tertentu. Hingga saat ini, proyek tersebut tak ada kabarnya lagi. Selanjutnya Halaman1234proyek antibanjirbanjirjakarta banjirbanjir jakarta\"]\n"
     ]
    }
   ],
   "source": [
    "# Dicoba kepada keseluruhan link\n",
    "\n",
    "top_berita = []\n",
    "\n",
    "for n in link_avail:\n",
    "    rezponze = requests.get(n)\n",
    "    soup_2 = BeautifulSoup(rezponze.content,\"html.parser\")\n",
    "    konten = soup_2.find(id='detikdetailtext')\n",
    "    \n",
    "    try:\n",
    "        for style in konten(\"style\"):\n",
    "            style.decompose()\n",
    "\n",
    "        for script in konten(\"script\"):\n",
    "            script.decompose()\n",
    "        konten = konten.text.replace('\\n','')\n",
    "        \n",
    "    except:\n",
    "        print(' Link : '+n+' | tidak memiliki konten')\n",
    "        \n",
    "    top_berita.append(konten)\n",
    "\n",
    "print(top_berita)"
   ]
  },
  {
   "cell_type": "code",
   "execution_count": 56,
   "metadata": {},
   "outputs": [
    {
     "data": {
      "text/plain": [
       "['Jakarta - Mantan istri pelawak Sule, Lina, meninggal dunia. Awalnya sempat dikabarkan Lina meninggal karena serangan jantung namun kemudian sang anak, Rizky Febrian, menyebut hal itu tidak benar.\"Sebenernya nggak ada sakit jantung. Cuma cepat sesak, lambungnya naik, butuh oksigen. Kontrol juga biasa, ketika check up jantung aman, paru-paru aman,\" ucap Rizky saat ditemui di rumah duka, Jalan Neptunus, Margahayu Raya, Kota Bandung, Sabtu (4/1/2020).\"(Sakit apa) Cuma itu balik lagi ke Allah, jadi bukan penyakit jantung,\" lanjutnya.Baca juga: Ingat! Gejala Sakit Jantung yang Begini Kerap Disangka Nyeri LambungTerkait hal tersebut muncul spekulasi Lina meninggal karena riwayat penyakit lambungnya. Ahli kesehatan jantung dr Vito A Damay, SpJP (K), MKes, FIHA, FICA, dari Siloam Hospital Karawaci berkomentar bahwa penyakit lambung tidak bisa menyebabkan kematian mendadak.\"Sakit lambung saja harusnya tidak menyebabkan kematian mendadak... Sudden death alami memang umumnya (karena) penyakit jantung dan pembuluh darah,\" kata dr Vito pada detikcom, Sabtu (4/1/2019).Keluhan seperti sakit di bagian lambung, sesak dada, hingga tiba-tiba hilang kesadaran disebut dr Vito kemungkinan tanda-tanda serangan jantung. Apalagi bila seorang pasien memiliki faktor risiko seperti hipertensi.\"Ingat bahwa penyakit jantung dan pembuluh darah adalah pembunuh nomor satu perempuan,\" pungkas dr Vito.Baca juga: Mantan Istri Sule Pernah Sakit Lambung, Bisa Sebabkan Serangan Jantung? Simak Video \"Menepuk Lengan Kiri Dapat Atasi Jantung, Hoax atau Tidak?\"[Gambas:Video 20detik](fds/kna)mantan istri sulemantan istri sule meninggal dunialina mantan istri sulepenyebab mantan istri sule meninggalserangan jantungnyeri lambung  ',\n",
       " None,\n",
       " 'Jakarta - Lina, mantan istri Sule, meninggal dunia pada Sabtu (4/1). Sang mendiang dimakamkan di Bandung, dan dihadiri oleh anak-anak serta Sule.Prosesi pemakaman pun berlangsung haru. Sule juga tampak sibuk membantu proses penurunan hingga penguburan mantan istrinya itu.Tak hanya itu, Rizky Febian juga ikut membantu proses pemakaman. Iki, sapaannya, bahkan sampai turun ke liang lahat ibundanya.Mata Sule dan Iki pun terlihat sembab. Apalagi anak keduanya Putri Delina yang tampak amat terpukul atas kepergian sang ibu.\"Nggak ada firasat sih. Kemarin juga lagi ngobrol sama Iki (Rizki Febian) malem-malem. Begitu tidur, Iki ngabarin dibawa ke rumah sakit,\" ucap Sule kepada detikcom saat ditemui di rumah duka.Baca juga: Tangis Rizky Febian Pecah Saat Cerita Kenangan Manis Bersama IbunyaSaat bicara soal kenangan yang ia habiskan bersama sang ibunda, Rizky Febian tak bisa menahan air matanya. Ia berterima kasih atas dukungan Lina dalam kariernya di dunia hiburan.\"Banyaklah (momen berkesan). Sampai detik ini tuh pelajaran ilmu didikan semuanya tidak lepas dari support mamah,\" ucap Iki.\"Iki bisa ada di titik ini karena mamah lah, aku ada di dunia entertain, ada di dunia, karena mamah lah, karena doa paling dijabah adalah doa orang tua,\" tuturnya.Selain kesan selama hidup, Iki juga sering mendapatkan pesan-pesan dari ibunya. Menurut Iki, ibunya berpesan agar Iki yang sudah terkenal tetap rendah hati.\"Selalu bisa menghargai sesama, harus bisa menyatukan saudara, harus bisa rendah hati dengan apa yang Iki punya. Banyak saudara-saudara yang susah dan masih harus dibantu, dan alhamdulillah Iki dididik sama ayah dan mamah itu harus seperti itu,\" kata dia.Baca juga: Duka atas Kepergian Lina Mantan Istri SuleSimak Video \"Mantan Istri Sule Disebut Hamil Duluan Sebelum Nikah\"[Gambas:Video 20detik](dal/dal)suleround uplina sulemantan istri sulemantan istri sule meninggal duniaPhoto GallerycelebProses Pemakaman Lina Mantan Istri Sule yang Penuh HarucelebProses Pemakaman Lina Mantan Istri Sule yang Penuh HarucelebProses Pemakaman Lina Mantan Istri Sule yang Penuh HarucelebProses Pemakaman Lina Mantan Istri Sule yang Penuh HarucelebProses Pemakaman Lina Mantan Istri Sule yang Penuh HarucelebProses Pemakaman Lina Mantan Istri Sule yang Penuh HarucelebPotret Kesedihan Sule dan Rizky Febian atas Kepergian LinacelebPotret Kesedihan Sule dan Rizky Febian atas Kepergian LinacelebPotret Kesedihan Sule dan Rizky Febian atas Kepergian LinacelebPotret Kesedihan Sule dan Rizky Febian atas Kepergian LinacelebPotret Kesedihan Sule dan Rizky Febian atas Kepergian LinacelebPotret Kesedihan Sule dan Rizky Febian atas Kepergian LinacelebMulan Jadi Anggota DPR, Kemesraan Onadio dan IstricelebMulan Jadi Anggota DPR, Kemesraan Onadio dan IstricelebMulan Jadi Anggota DPR, Kemesraan Onadio dan IstricelebMulan Jadi Anggota DPR, Kemesraan Onadio dan IstricelebMulan Jadi Anggota DPR, Kemesraan Onadio dan IstriphotoAyo Sule, Rizky Febian Minta Kamu Buruan Nikah LagiphotoAyo Sule, Rizky Febian Minta Kamu Buruan Nikah LagiphotoAyo Sule, Rizky Febian Minta Kamu Buruan Nikah LagiphotoAyo Sule, Rizky Febian Minta Kamu Buruan Nikah LagiphotoAyo Sule, Rizky Febian Minta Kamu Buruan Nikah LagiphotoAyo Sule, Rizky Febian Minta Kamu Buruan Nikah LagicelebBaby Shima Sebut Sule Marah Kepadanya, Gara-gara Apa?celebBaby Shima Sebut Sule Marah Kepadanya, Gara-gara Apa?celebBaby Shima Sebut Sule Marah Kepadanya, Gara-gara Apa?celebBaby Shima Sebut Sule Marah Kepadanya, Gara-gara Apa?celebBaby Shima Sebut Sule Marah Kepadanya, Gara-gara Apa?celebBaby Shima Sebut Sule Marah Kepadanya, Gara-gara Apa?celebPesona Baby Shima, Rekan Duet SulecelebPesona Baby Shima, Rekan Duet SulecelebPesona Baby Shima, Rekan Duet SulecelebPesona Baby Shima, Rekan Duet SulecelebPesona Baby Shima, Rekan Duet SulecelebPesona Baby Shima, Rekan Duet SulecelebPesona Baby Shima, Rekan Duet SulecelebJangan Baper! Tak Hanya Naomi Zaskia, Sule Juga Peluk Baby ShimacelebJangan Baper! Tak Hanya Naomi Zaskia, Sule Juga Peluk Baby ShimacelebJangan Baper! Tak Hanya Naomi Zaskia, Sule Juga Peluk Baby ShimacelebJangan Baper! Tak Hanya Naomi Zaskia, Sule Juga Peluk Baby ShimacelebJangan Baper! Tak Hanya Naomi Zaskia, Sule Juga Peluk Baby ShimacelebJangan Baper! Tak Hanya Naomi Zaskia, Sule Juga Peluk Baby ShimacelebDisambut Pelukan saat Kembali, Ini Momen Bahagia Andre Taulany dan SulecelebDisambut Pelukan saat Kembali, Ini Momen Bahagia Andre Taulany dan SulecelebDisambut Pelukan saat Kembali, Ini Momen Bahagia Andre Taulany dan SulecelebDisambut Pelukan saat Kembali, Ini Momen Bahagia Andre Taulany dan SulecelebDisambut Pelukan saat Kembali, Ini Momen Bahagia Andre Taulany dan SulecelebDisambut Pelukan saat Kembali, Ini Momen Bahagia Andre Taulany dan SulecelebDisambut Pelukan saat Kembali, Ini Momen Bahagia Andre Taulany dan SulecelebDisambut Pelukan saat Kembali, Ini Momen Bahagia Andre Taulany dan SulecelebSule Dekat dengan Baby Shima, Ini Pendapat Naomi ZaskiacelebSule Dekat dengan Baby Shima, Ini Pendapat Naomi ZaskiacelebSule Dekat dengan Baby Shima, Ini Pendapat Naomi ZaskiacelebSule Dekat dengan Baby Shima, Ini Pendapat Naomi ZaskiacelebSule Dekat dengan Baby Shima, Ini Pendapat Naomi ZaskiacelebSule Dekat dengan Baby Shima, Ini Pendapat Naomi ZaskiacelebSule Dekat dengan Baby Shima, Ini Pendapat Naomi ZaskiacelebSeperti Istana, Begini Kediaman Sule di BekasicelebSeperti Istana, Begini Kediaman Sule di BekasicelebSeperti Istana, Begini Kediaman Sule di BekasicelebSeperti Istana, Begini Kediaman Sule di BekasicelebSeperti Istana, Begini Kediaman Sule di BekasicelebSeperti Istana, Begini Kediaman Sule di BekasicelebSeperti Istana, Begini Kediaman Sule di BekasicelebSeperti Istana, Begini Kediaman Sule di BekasicelebSeperti Istana, Begini Kediaman Sule di BekasicelebSeperti Istana, Begini Kediaman Sule di BekasicelebSule Curhat Pasca Cerai hingga Rilis Lagu Bareng Adik IparcelebSule Curhat Pasca Cerai hingga Rilis Lagu Bareng Adik IparcelebSule Curhat Pasca Cerai hingga Rilis Lagu Bareng Adik IparcelebSule Curhat Pasca Cerai hingga Rilis Lagu Bareng Adik IparcelebSule Curhat Pasca Cerai hingga Rilis Lagu Bareng Adik IparcelebSule Curhat Pasca Cerai hingga Rilis Lagu Bareng Adik IparcelebKemesraan Sule dan Suci, Model di Video Klip \\'Gara-gara Dia\\'celebKemesraan Sule dan Suci, Model di Video Klip \\'Gara-gara Dia\\'celebKemesraan Sule dan Suci, Model di Video Klip \\'Gara-gara Dia\\'celebKemesraan Sule dan Suci, Model di Video Klip \\'Gara-gara Dia\\'celebKemesraan Sule dan Suci, Model di Video Klip \\'Gara-gara Dia\\'celebKalimat Haru Rizky Febian di Foto Bersama KeluargacelebKalimat Haru Rizky Febian di Foto Bersama KeluargacelebKalimat Haru Rizky Febian di Foto Bersama KeluargacelebKalimat Haru Rizky Febian di Foto Bersama KeluargacelebKalimat Haru Rizky Febian di Foto Bersama KeluargacelebKalimat Haru Rizky Febian di Foto Bersama KeluargacelebKalimat Haru Rizky Febian di Foto Bersama KeluargacelebKalimat Haru Rizky Febian di Foto Bersama KeluargacelebFoto Kedekatan Lina Sule dan Keluarga TeddycelebFoto Kedekatan Lina Sule dan Keluarga TeddycelebFoto Kedekatan Lina Sule dan Keluarga TeddycelebFoto Kedekatan Lina Sule dan Keluarga TeddycelebFoto Kedekatan Lina Sule dan Keluarga TeddycelebFoto Kedekatan Lina Sule dan Keluarga TeddycelebFoto Kedekatan Lina Sule dan Keluarga TeddycelebSule di Sidang Perceraian, Naik Alphard dan Ajang Selfie WargacelebSule di Sidang Perceraian, Naik Alphard dan Ajang Selfie WargacelebSule di Sidang Perceraian, Naik Alphard dan Ajang Selfie WargacelebSule di Sidang Perceraian, Naik Alphard dan Ajang Selfie WargacelebSule di Sidang Perceraian, Naik Alphard dan Ajang Selfie WargacelebIni Lho Moge Harley Sule yang Jadi Sebab Lina Gugat CeraicelebIni Lho Moge Harley Sule yang Jadi Sebab Lina Gugat CeraicelebIni Lho Moge Harley Sule yang Jadi Sebab Lina Gugat CeraicelebIni Lho Moge Harley Sule yang Jadi Sebab Lina Gugat CeraicelebIni Lho Moge Harley Sule yang Jadi Sebab Lina Gugat CeraicelebIstana Sule yang Konon Senilai Rp 15 M & Sederet \\'Kuda\\' MewahnyacelebIstana Sule yang Konon Senilai Rp 15 M & Sederet \\'Kuda\\' MewahnyacelebIstana Sule yang Konon Senilai Rp 15 M & Sederet \\'Kuda\\' MewahnyacelebIstana Sule yang Konon Senilai Rp 15 M & Sederet \\'Kuda\\' MewahnyacelebIstana Sule yang Konon Senilai Rp 15 M & Sederet \\'Kuda\\' MewahnyacelebIstana Sule yang Konon Senilai Rp 15 M & Sederet \\'Kuda\\' MewahnyacelebIstana Sule yang Konon Senilai Rp 15 M & Sederet \\'Kuda\\' MewahnyacelebIstana Sule yang Konon Senilai Rp 15 M & Sederet \\'Kuda\\' MewahnyacelebIstana Sule yang Konon Senilai Rp 15 M & Sederet \\'Kuda\\' MewahnyacelebKemesraan Sule & Lina Tinggal Kenangan, Avengers Tato-an BarengcelebKemesraan Sule & Lina Tinggal Kenangan, Avengers Tato-an BarengcelebKemesraan Sule & Lina Tinggal Kenangan, Avengers Tato-an BarengcelebKemesraan Sule & Lina Tinggal Kenangan, Avengers Tato-an BarengcelebKemesraan Sule & Lina Tinggal Kenangan, Avengers Tato-an BarengcelebKemesraan Sule & Lina Tinggal Kenangan, Avengers Tato-an BarengcelebKemesraan Sule & Lina Tinggal Kenangan, Avengers Tato-an BarengcelebKemesraan Sule & Lina Tinggal Kenangan, Avengers Tato-an BarengcelebKemesraan Sule & Lina Tinggal Kenangan, Avengers Tato-an BarengcelebSaat sang Istri Beri Kejutan Sule di Ulang TahunnyacelebSaat sang Istri Beri Kejutan Sule di Ulang TahunnyacelebSaat sang Istri Beri Kejutan Sule di Ulang TahunnyacelebSaat sang Istri Beri Kejutan Sule di Ulang TahunnyacelebSaat sang Istri Beri Kejutan Sule di Ulang TahunnyacelebSaat sang Istri Beri Kejutan Sule di Ulang TahunnyacelebSule Digugat Cerai, Intip Lagi Kebersamaannya dengan IstricelebSule Digugat Cerai, Intip Lagi Kebersamaannya dengan IstricelebSule Digugat Cerai, Intip Lagi Kebersamaannya dengan IstricelebSule Digugat Cerai, Intip Lagi Kebersamaannya dengan IstricelebSule Digugat Cerai, Intip Lagi Kebersamaannya dengan IstricelebSule Digugat Cerai, Intip Lagi Kebersamaannya dengan IstricelebSule Digugat Cerai, Intip Lagi Kebersamaannya dengan Istri ',\n",
       " 'Jakarta - Dipha Barus dan Vanessa Budiharja resmi menjadi suami-istri. Keduanya baru saja melangsungkan pernikahan di Los Angels, Amerika Serikat.Usai menikah, Dipha Barus dan istrinya itu langsung melanjutkan bulan madu di sana. Hal itu diketahui dari manajernya, Tri Wardoyo.\"Iya mungkin (honey moon),\" kata Tri Wardoyo saat dihubungi, Sabtu (4/1/2020).Dipha Barus rencananya akan menikmati kehidupan barunya itu selama sebulan penuh. Setelah itu, ia baru akan kembali untuk bekerja.\"Jadi ada liburan, sama nanti Dipha Barus ada sesi sama Ultra Music untuk single selanjutnya. mungkin sebulan,\" Tri Wardoyo menandaskan.Baca juga: Dikontrak Ultra Records, Dipha Barus: Nggak Mikir Go InternasionalSimak Video \"Selamat! Dipha Barus Resmi Menikah dengan Vanessa\"[Gambas:Video 20detik](hnh/dal)dipha barusdipha barus menikahPhoto Galleryon-stageSound of Tri: Iringan Musik dan Kemewahan Electrical Foreston-stageSound of Tri: Iringan Musik dan Kemewahan Electrical Foreston-stageSound of Tri: Iringan Musik dan Kemewahan Electrical Foreston-stageSound of Tri: Iringan Musik dan Kemewahan Electrical Foreston-stageSound of Tri: Iringan Musik dan Kemewahan Electrical Foreston-stageSound of Tri: Iringan Musik dan Kemewahan Electrical Foreston-stageSound of Tri: Iringan Musik dan Kemewahan Electrical Foreston-stageShake Your Body ! Dipha Barus Tutup d\\'HOT Music Dayon-stageShake Your Body ! Dipha Barus Tutup d\\'HOT Music Dayon-stageShake Your Body ! Dipha Barus Tutup d\\'HOT Music Dayon-stageShake Your Body ! Dipha Barus Tutup d\\'HOT Music Dayon-stageShake Your Body ! Dipha Barus Tutup d\\'HOT Music Dayon-stageShake Your Body ! Dipha Barus Tutup d\\'HOT Music Dayon-stageShake Your Body ! Dipha Barus Tutup d\\'HOT Music Dayon-stageShake Your Body ! Dipha Barus Tutup d\\'HOT Music Dayon-stageJangan Kasih Kendor! Dipha Barus Hentak DWP 2016 Hari Keduaon-stageJangan Kasih Kendor! Dipha Barus Hentak DWP 2016 Hari Keduaon-stageJangan Kasih Kendor! Dipha Barus Hentak DWP 2016 Hari Keduaon-stageJangan Kasih Kendor! Dipha Barus Hentak DWP 2016 Hari Keduaon-stageJangan Kasih Kendor! Dipha Barus Hentak DWP 2016 Hari Keduaon-stageJangan Kasih Kendor! Dipha Barus Hentak DWP 2016 Hari Kedua ',\n",
       " 'Jakarta - Ustaz Yusuf Mansur mendadak di-bully di Instagram. Hal itu dikarenakan dirinya diduga telah melakukan tindakan yang tak menyenangkan ke Gubernur Jakarta Anies Baswedan.Dalam sebuah foto, Yusuf Mansur terlihat memberikan emoji tertawa saat melihat Instagram Live Anies Baswedan yang sedang inspeksi banjir di Cawang, Jakarta Timur. Memang ada tiga simbol tertawa dalam komentar Yusuf.Namun, Yusuf Mansur merasa tak pernah menertawakan Anies Baswedan. Sambil menjelaskan kepada netizen di media sosial, ia mengaku ada yang sengaja ingin menjahatinya.\"Abis ngertawain anis gimana tadi rasanya dibulli,\" komen akun @iam_ayu.12.Baca juga: Kerap Diserang Berita Hoax, Yusuf Mansur Tetap Bersyukur\"Itu hoax bosku sayang. Ada yg ngedit2. Jd pict itu palsu. Tp gpp. Udah keliatan. Ada yg mau bentur2in. Dan seperti biasa, ga mau nerima penjelasan hehehe. Udah saya ig in jg berkali2. Its oke,\" balas Yusuf.Sang ulama mengaku awalnya mengira komentar menertawakan itu benar ditulisnya. Tapi setelah dicek lagi, ia menemukan kebenaran dan tak pernah menertawakan, tapi mengirim doa ke Anies Baswedan.\"Semula saya pikir saya kepeleset ngetik. Sbg bentuk baik sangka. Masa nuduh orang. Tp kemudian kerja. Saya jg minta bbrp kwn melototin dg seksama. Apa iya ada emot begitu dan binggo!! Yang ada justru 2x doa,\" tuturnya.Yusuf Mansur masih punya bukti soal tak pernah menertawakan Anies Baswedan. Kalau masih juga tak percaya, ia tak mempermasalahkannya.\"Kami msh simpen live lengkapnya pak @aniesbaswedan lengkap dg segala komennya. Dan sekali lagi, ga ada emot itu. Mksh ya. Gpp jg ga percaya hehe,\" katanya.Baca juga: Yusuf Mansur Unggah Penyanyi Cantik AS Mualaf yang Lantunkan Al BaqarahSimak Video \"Tinjau Titik Banjir di Duri Kosambi, Gubernur Anies Diteriaki Warga\"[Gambas:Video 20detik](mau/dal)yusuf mansuranies baswedanbanjirbanjir 1 januari 2020Photo GallerycelebAjak Anggota DPRD, Eko Patrio Temui Korban BanjircelebAjak Anggota DPRD, Eko Patrio Temui Korban BanjircelebAjak Anggota DPRD, Eko Patrio Temui Korban BanjircelebAjak Anggota DPRD, Eko Patrio Temui Korban BanjircelebAjak Anggota DPRD, Eko Patrio Temui Korban BanjircelebAjak Anggota DPRD, Eko Patrio Temui Korban BanjircultureMakna di Balik Seni Bambu Getah Getih Karya Joko AviantocultureMakna di Balik Seni Bambu Getah Getih Karya Joko AviantocultureMakna di Balik Seni Bambu Getah Getih Karya Joko AviantocultureMakna di Balik Seni Bambu Getah Getih Karya Joko AviantocultureMakna di Balik Seni Bambu Getah Getih Karya Joko AviantocultureMakna di Balik Seni Bambu Getah Getih Karya Joko AviantocultureMakna di Balik Seni Bambu Getah Getih Karya Joko AviantocultureMakna di Balik Seni Bambu Getah Getih Karya Joko AviantocelebJenazah Ustaz Arifin Ilham Disambut Tokoh, Ulama dan SahabatcelebJenazah Ustaz Arifin Ilham Disambut Tokoh, Ulama dan SahabatcelebJenazah Ustaz Arifin Ilham Disambut Tokoh, Ulama dan SahabatcelebJenazah Ustaz Arifin Ilham Disambut Tokoh, Ulama dan SahabatcelebJenazah Ustaz Arifin Ilham Disambut Tokoh, Ulama dan SahabatcelebJenazah Ustaz Arifin Ilham Disambut Tokoh, Ulama dan SahabatcelebJenazah Ustaz Arifin Ilham Disambut Tokoh, Ulama dan SahabatcelebJenazah Ustaz Arifin Ilham Disambut Tokoh, Ulama dan SahabatcelebJenazah Ustaz Arifin Ilham Disambut Tokoh, Ulama dan SahabatcultureLebih Dekat dengan Ledania, Seniman Cantik yang Muralnya Diresmikan AniescultureLebih Dekat dengan Ledania, Seniman Cantik yang Muralnya Diresmikan AniescultureLebih Dekat dengan Ledania, Seniman Cantik yang Muralnya Diresmikan AniescultureLebih Dekat dengan Ledania, Seniman Cantik yang Muralnya Diresmikan AniescultureLebih Dekat dengan Ledania, Seniman Cantik yang Muralnya Diresmikan AniescultureLebih Dekat dengan Ledania, Seniman Cantik yang Muralnya Diresmikan AniescultureAnies dan Instalasi Bambu Joko Avianto untuk Asian Games 2018cultureAnies dan Instalasi Bambu Joko Avianto untuk Asian Games 2018cultureAnies dan Instalasi Bambu Joko Avianto untuk Asian Games 2018cultureAnies dan Instalasi Bambu Joko Avianto untuk Asian Games 2018cultureAnies dan Instalasi Bambu Joko Avianto untuk Asian Games 2018cultureAnies dan Instalasi Bambu Joko Avianto untuk Asian Games 2018cultureAnies dan Instalasi Bambu Joko Avianto untuk Asian Games 2018cultureSiapakah Arsitek Bandung yang Komentari \\'Beautifikasi\\' Anies?cultureSiapakah Arsitek Bandung yang Komentari \\'Beautifikasi\\' Anies?cultureSiapakah Arsitek Bandung yang Komentari \\'Beautifikasi\\' Anies?cultureSiapakah Arsitek Bandung yang Komentari \\'Beautifikasi\\' Anies?cultureSiapakah Arsitek Bandung yang Komentari \\'Beautifikasi\\' Anies?cultureSiapakah Arsitek Bandung yang Komentari \\'Beautifikasi\\' Anies?cultureSiapakah Arsitek Bandung yang Komentari \\'Beautifikasi\\' Anies?cultureBeda \\'Beautifikasi\\' Anies-Sandi dan Kampung CibunutcultureBeda \\'Beautifikasi\\' Anies-Sandi dan Kampung CibunutcultureBeda \\'Beautifikasi\\' Anies-Sandi dan Kampung CibunutcultureBeda \\'Beautifikasi\\' Anies-Sandi dan Kampung CibunutcultureBeda \\'Beautifikasi\\' Anies-Sandi dan Kampung CibunutcultureBeda \\'Beautifikasi\\' Anies-Sandi dan Kampung CibunutcultureBeda \\'Beautifikasi\\' Anies-Sandi dan Kampung CibunutcultureBeda \\'Beautifikasi\\' Anies-Sandi dan Kampung CibunutcultureBeda \\'Beautifikasi\\' Anies-Sandi dan Kampung CibunutcultureBeda \\'Beautifikasi\\' Anies-Sandi dan Kampung CibunutcelebKeseruan Local Stand Up Day, 30 Komika hingga Anies BaswedancelebKeseruan Local Stand Up Day, 30 Komika hingga Anies BaswedancelebKeseruan Local Stand Up Day, 30 Komika hingga Anies BaswedancelebKeseruan Local Stand Up Day, 30 Komika hingga Anies BaswedancelebKeseruan Local Stand Up Day, 30 Komika hingga Anies BaswedancelebKeseruan Local Stand Up Day, 30 Komika hingga Anies BaswedancelebKeseruan Local Stand Up Day, 30 Komika hingga Anies BaswedancelebSiapa Kathy Indera yang Sewot ke Anies Baswedan?celebSiapa Kathy Indera yang Sewot ke Anies Baswedan?celebSiapa Kathy Indera yang Sewot ke Anies Baswedan?celebSiapa Kathy Indera yang Sewot ke Anies Baswedan?celebSiapa Kathy Indera yang Sewot ke Anies Baswedan?celebSiapa Kathy Indera yang Sewot ke Anies Baswedan?celebSiapa Kathy Indera yang Sewot ke Anies Baswedan?celebSiapa Kathy Indera yang Sewot ke Anies Baswedan?celebManisnya Putri Yusuf Mansur yang Ingin Beli YouTube!celebManisnya Putri Yusuf Mansur yang Ingin Beli YouTube!celebManisnya Putri Yusuf Mansur yang Ingin Beli YouTube!celebManisnya Putri Yusuf Mansur yang Ingin Beli YouTube!celebManisnya Putri Yusuf Mansur yang Ingin Beli YouTube!celebManisnya Putri Yusuf Mansur yang Ingin Beli YouTube!celebManisnya Putri Yusuf Mansur yang Ingin Beli YouTube!photoLimbad Bantu Korban Banjir di JakartaphotoShinta Bachir Berikan Bantuan Korban BanjirphotoSiti Liza Beri Bantuan pada Korban BanjirphotoBanjir Artis di Peluncuran Miniblog ',\n",
       " None,\n",
       " None,\n",
       " None,\n",
       " None,\n",
       " None,\n",
       " None,\n",
       " None,\n",
       " \"Jakarta - DKI Jakarta memiliki sejumlah proyek infrastruktur untuk menanggulangi bencana banjir di ibu kota. Bahkan, proyek-proyek ini sudah diinisiasikan sebelum Gubernur DKI Jakarta Anies Baswedan menjabat. Mulai dari multi purpose deep tunnel (MPDT) alias gorong-gorong raksasa yang sudah dicanangkan sejak tahun 2007, di mana kala itu Sutiyoso Gubernurnya. Mengintip catatan detikcom, berikut sederet proyek infrastruktur 'anti'banjir Jakarta:1. Multi Purpose Deep Tunnel (MPDT) atau Terowongan 'Raksasa' Anti BanjirProyek Multi Purpose Deep Tunnel atau terowongan 'raksasa' di Jakarta selain bermanfaat untuk atasi banjir juga bisa dipakai untuk jalan tol. Rencananya terowongan berdiameter 12 meter ini juga akan terhubung dengan jalan tol lainnya.Dalam perencanaannya, tol yang akan membujur sepanjang terowongan ini akan terhubung dengan jaringan tol Lingkar Luar Jakarta I (JORR I) dan dalam kota.Baca juga: Luhut Minta DKI Lebih Berani Bebaskan Lahan CiliwungTerowongan ini akan membentang sepanjang 23 Km ini hanya akan ada 2 pintu keluar masuk kendaraan, yakni di Balai Kambang Condet Jakarta Timur dan di Tanjung Priok Jakarta Utara.Selain itu, jalan tol ini pun diharapkan bisa berkontribusi terhadap pendapatan atau pengembalian modal dari total investasi pembangun mega proyek ini, yang diperkirakan mencapai Rp 26 triliun.Proyek yang dijagokan sebagai penangkal banjir multi fungsi merupakan gagasan Gubernur DKI Jakarta periode 1997-2007 Sutiyoso. Pada tahun 2013, proyek yang tak ada kabarnya itu kemudian disuarakan kembali ketika Joko Widodo (Jokowi) masih menjabat sebagai Gubernur DKi Jakarta.Menteri PU saat itu Djoko Kirmanto optimistis proyek ini dapat direalisasikan. Pasalnya, di negara-negara lain konsep terowongan multiguna ini sudah diterapkan. Contohnya seperti Malaysia, Amerika dan Jepang. Proyek deep tunnel kemudian dimasukkan dalam Rencana Pembangunan Jangka Menengah Daerah (RPJMD) tahun 2013-2017. Namun, sejak tahun 2015, proyek tersebut kembali 'mentah'. Deputi Menteri Koodinator Bidang Perekonomian bidang Infrastruktur Lucky Eko Wuryanto kala itu menyebut proyek tersebut tidak layak secara finansial. Cenderung mahal dan tidak akan begitu efektif mengatasi curah hujan yang tinggi di Jakarta dalam musim tertentu. Hingga saat ini, proyek tersebut tak ada kabarnya lagi. Selanjutnya Halaman1234proyek antibanjirbanjirjakarta banjirbanjir jakarta\"]"
      ]
     },
     "execution_count": 56,
     "metadata": {},
     "output_type": "execute_result"
    }
   ],
   "source": [
    "top_berita"
   ]
  },
  {
   "cell_type": "code",
   "execution_count": 57,
   "metadata": {},
   "outputs": [
    {
     "data": {
      "text/plain": [
       "['Jakarta - Mantan istri pelawak Sule, Lina, meninggal dunia. Awalnya sempat dikabarkan Lina meninggal karena serangan jantung namun kemudian sang anak, Rizky Febrian, menyebut hal itu tidak benar.\"Sebenernya nggak ada sakit jantung. Cuma cepat sesak, lambungnya naik, butuh oksigen. Kontrol juga biasa, ketika check up jantung aman, paru-paru aman,\" ucap Rizky saat ditemui di rumah duka, Jalan Neptunus, Margahayu Raya, Kota Bandung, Sabtu (4/1/2020).\"(Sakit apa) Cuma itu balik lagi ke Allah, jadi bukan penyakit jantung,\" lanjutnya.Baca juga: Ingat! Gejala Sakit Jantung yang Begini Kerap Disangka Nyeri LambungTerkait hal tersebut muncul spekulasi Lina meninggal karena riwayat penyakit lambungnya. Ahli kesehatan jantung dr Vito A Damay, SpJP (K), MKes, FIHA, FICA, dari Siloam Hospital Karawaci berkomentar bahwa penyakit lambung tidak bisa menyebabkan kematian mendadak.\"Sakit lambung saja harusnya tidak menyebabkan kematian mendadak... Sudden death alami memang umumnya (karena) penyakit jantung dan pembuluh darah,\" kata dr Vito pada detikcom, Sabtu (4/1/2019).Keluhan seperti sakit di bagian lambung, sesak dada, hingga tiba-tiba hilang kesadaran disebut dr Vito kemungkinan tanda-tanda serangan jantung. Apalagi bila seorang pasien memiliki faktor risiko seperti hipertensi.\"Ingat bahwa penyakit jantung dan pembuluh darah adalah pembunuh nomor satu perempuan,\" pungkas dr Vito.Baca juga: Mantan Istri Sule Pernah Sakit Lambung, Bisa Sebabkan Serangan Jantung? Simak Video \"Menepuk Lengan Kiri Dapat Atasi Jantung, Hoax atau Tidak?\"[Gambas:Video 20detik](fds/kna)mantan istri sulemantan istri sule meninggal dunialina mantan istri sulepenyebab mantan istri sule meninggalserangan jantungnyeri lambung  ',\n",
       " 'Jakarta - Lina, mantan istri Sule, meninggal dunia pada Sabtu (4/1). Sang mendiang dimakamkan di Bandung, dan dihadiri oleh anak-anak serta Sule.Prosesi pemakaman pun berlangsung haru. Sule juga tampak sibuk membantu proses penurunan hingga penguburan mantan istrinya itu.Tak hanya itu, Rizky Febian juga ikut membantu proses pemakaman. Iki, sapaannya, bahkan sampai turun ke liang lahat ibundanya.Mata Sule dan Iki pun terlihat sembab. Apalagi anak keduanya Putri Delina yang tampak amat terpukul atas kepergian sang ibu.\"Nggak ada firasat sih. Kemarin juga lagi ngobrol sama Iki (Rizki Febian) malem-malem. Begitu tidur, Iki ngabarin dibawa ke rumah sakit,\" ucap Sule kepada detikcom saat ditemui di rumah duka.Baca juga: Tangis Rizky Febian Pecah Saat Cerita Kenangan Manis Bersama IbunyaSaat bicara soal kenangan yang ia habiskan bersama sang ibunda, Rizky Febian tak bisa menahan air matanya. Ia berterima kasih atas dukungan Lina dalam kariernya di dunia hiburan.\"Banyaklah (momen berkesan). Sampai detik ini tuh pelajaran ilmu didikan semuanya tidak lepas dari support mamah,\" ucap Iki.\"Iki bisa ada di titik ini karena mamah lah, aku ada di dunia entertain, ada di dunia, karena mamah lah, karena doa paling dijabah adalah doa orang tua,\" tuturnya.Selain kesan selama hidup, Iki juga sering mendapatkan pesan-pesan dari ibunya. Menurut Iki, ibunya berpesan agar Iki yang sudah terkenal tetap rendah hati.\"Selalu bisa menghargai sesama, harus bisa menyatukan saudara, harus bisa rendah hati dengan apa yang Iki punya. Banyak saudara-saudara yang susah dan masih harus dibantu, dan alhamdulillah Iki dididik sama ayah dan mamah itu harus seperti itu,\" kata dia.Baca juga: Duka atas Kepergian Lina Mantan Istri SuleSimak Video \"Mantan Istri Sule Disebut Hamil Duluan Sebelum Nikah\"[Gambas:Video 20detik](dal/dal)suleround uplina sulemantan istri sulemantan istri sule meninggal duniaPhoto GallerycelebProses Pemakaman Lina Mantan Istri Sule yang Penuh HarucelebProses Pemakaman Lina Mantan Istri Sule yang Penuh HarucelebProses Pemakaman Lina Mantan Istri Sule yang Penuh HarucelebProses Pemakaman Lina Mantan Istri Sule yang Penuh HarucelebProses Pemakaman Lina Mantan Istri Sule yang Penuh HarucelebProses Pemakaman Lina Mantan Istri Sule yang Penuh HarucelebPotret Kesedihan Sule dan Rizky Febian atas Kepergian LinacelebPotret Kesedihan Sule dan Rizky Febian atas Kepergian LinacelebPotret Kesedihan Sule dan Rizky Febian atas Kepergian LinacelebPotret Kesedihan Sule dan Rizky Febian atas Kepergian LinacelebPotret Kesedihan Sule dan Rizky Febian atas Kepergian LinacelebPotret Kesedihan Sule dan Rizky Febian atas Kepergian LinacelebMulan Jadi Anggota DPR, Kemesraan Onadio dan IstricelebMulan Jadi Anggota DPR, Kemesraan Onadio dan IstricelebMulan Jadi Anggota DPR, Kemesraan Onadio dan IstricelebMulan Jadi Anggota DPR, Kemesraan Onadio dan IstricelebMulan Jadi Anggota DPR, Kemesraan Onadio dan IstriphotoAyo Sule, Rizky Febian Minta Kamu Buruan Nikah LagiphotoAyo Sule, Rizky Febian Minta Kamu Buruan Nikah LagiphotoAyo Sule, Rizky Febian Minta Kamu Buruan Nikah LagiphotoAyo Sule, Rizky Febian Minta Kamu Buruan Nikah LagiphotoAyo Sule, Rizky Febian Minta Kamu Buruan Nikah LagiphotoAyo Sule, Rizky Febian Minta Kamu Buruan Nikah LagicelebBaby Shima Sebut Sule Marah Kepadanya, Gara-gara Apa?celebBaby Shima Sebut Sule Marah Kepadanya, Gara-gara Apa?celebBaby Shima Sebut Sule Marah Kepadanya, Gara-gara Apa?celebBaby Shima Sebut Sule Marah Kepadanya, Gara-gara Apa?celebBaby Shima Sebut Sule Marah Kepadanya, Gara-gara Apa?celebBaby Shima Sebut Sule Marah Kepadanya, Gara-gara Apa?celebPesona Baby Shima, Rekan Duet SulecelebPesona Baby Shima, Rekan Duet SulecelebPesona Baby Shima, Rekan Duet SulecelebPesona Baby Shima, Rekan Duet SulecelebPesona Baby Shima, Rekan Duet SulecelebPesona Baby Shima, Rekan Duet SulecelebPesona Baby Shima, Rekan Duet SulecelebJangan Baper! Tak Hanya Naomi Zaskia, Sule Juga Peluk Baby ShimacelebJangan Baper! Tak Hanya Naomi Zaskia, Sule Juga Peluk Baby ShimacelebJangan Baper! Tak Hanya Naomi Zaskia, Sule Juga Peluk Baby ShimacelebJangan Baper! Tak Hanya Naomi Zaskia, Sule Juga Peluk Baby ShimacelebJangan Baper! Tak Hanya Naomi Zaskia, Sule Juga Peluk Baby ShimacelebJangan Baper! Tak Hanya Naomi Zaskia, Sule Juga Peluk Baby ShimacelebDisambut Pelukan saat Kembali, Ini Momen Bahagia Andre Taulany dan SulecelebDisambut Pelukan saat Kembali, Ini Momen Bahagia Andre Taulany dan SulecelebDisambut Pelukan saat Kembali, Ini Momen Bahagia Andre Taulany dan SulecelebDisambut Pelukan saat Kembali, Ini Momen Bahagia Andre Taulany dan SulecelebDisambut Pelukan saat Kembali, Ini Momen Bahagia Andre Taulany dan SulecelebDisambut Pelukan saat Kembali, Ini Momen Bahagia Andre Taulany dan SulecelebDisambut Pelukan saat Kembali, Ini Momen Bahagia Andre Taulany dan SulecelebDisambut Pelukan saat Kembali, Ini Momen Bahagia Andre Taulany dan SulecelebSule Dekat dengan Baby Shima, Ini Pendapat Naomi ZaskiacelebSule Dekat dengan Baby Shima, Ini Pendapat Naomi ZaskiacelebSule Dekat dengan Baby Shima, Ini Pendapat Naomi ZaskiacelebSule Dekat dengan Baby Shima, Ini Pendapat Naomi ZaskiacelebSule Dekat dengan Baby Shima, Ini Pendapat Naomi ZaskiacelebSule Dekat dengan Baby Shima, Ini Pendapat Naomi ZaskiacelebSule Dekat dengan Baby Shima, Ini Pendapat Naomi ZaskiacelebSeperti Istana, Begini Kediaman Sule di BekasicelebSeperti Istana, Begini Kediaman Sule di BekasicelebSeperti Istana, Begini Kediaman Sule di BekasicelebSeperti Istana, Begini Kediaman Sule di BekasicelebSeperti Istana, Begini Kediaman Sule di BekasicelebSeperti Istana, Begini Kediaman Sule di BekasicelebSeperti Istana, Begini Kediaman Sule di BekasicelebSeperti Istana, Begini Kediaman Sule di BekasicelebSeperti Istana, Begini Kediaman Sule di BekasicelebSeperti Istana, Begini Kediaman Sule di BekasicelebSule Curhat Pasca Cerai hingga Rilis Lagu Bareng Adik IparcelebSule Curhat Pasca Cerai hingga Rilis Lagu Bareng Adik IparcelebSule Curhat Pasca Cerai hingga Rilis Lagu Bareng Adik IparcelebSule Curhat Pasca Cerai hingga Rilis Lagu Bareng Adik IparcelebSule Curhat Pasca Cerai hingga Rilis Lagu Bareng Adik IparcelebSule Curhat Pasca Cerai hingga Rilis Lagu Bareng Adik IparcelebKemesraan Sule dan Suci, Model di Video Klip \\'Gara-gara Dia\\'celebKemesraan Sule dan Suci, Model di Video Klip \\'Gara-gara Dia\\'celebKemesraan Sule dan Suci, Model di Video Klip \\'Gara-gara Dia\\'celebKemesraan Sule dan Suci, Model di Video Klip \\'Gara-gara Dia\\'celebKemesraan Sule dan Suci, Model di Video Klip \\'Gara-gara Dia\\'celebKalimat Haru Rizky Febian di Foto Bersama KeluargacelebKalimat Haru Rizky Febian di Foto Bersama KeluargacelebKalimat Haru Rizky Febian di Foto Bersama KeluargacelebKalimat Haru Rizky Febian di Foto Bersama KeluargacelebKalimat Haru Rizky Febian di Foto Bersama KeluargacelebKalimat Haru Rizky Febian di Foto Bersama KeluargacelebKalimat Haru Rizky Febian di Foto Bersama KeluargacelebKalimat Haru Rizky Febian di Foto Bersama KeluargacelebFoto Kedekatan Lina Sule dan Keluarga TeddycelebFoto Kedekatan Lina Sule dan Keluarga TeddycelebFoto Kedekatan Lina Sule dan Keluarga TeddycelebFoto Kedekatan Lina Sule dan Keluarga TeddycelebFoto Kedekatan Lina Sule dan Keluarga TeddycelebFoto Kedekatan Lina Sule dan Keluarga TeddycelebFoto Kedekatan Lina Sule dan Keluarga TeddycelebSule di Sidang Perceraian, Naik Alphard dan Ajang Selfie WargacelebSule di Sidang Perceraian, Naik Alphard dan Ajang Selfie WargacelebSule di Sidang Perceraian, Naik Alphard dan Ajang Selfie WargacelebSule di Sidang Perceraian, Naik Alphard dan Ajang Selfie WargacelebSule di Sidang Perceraian, Naik Alphard dan Ajang Selfie WargacelebIni Lho Moge Harley Sule yang Jadi Sebab Lina Gugat CeraicelebIni Lho Moge Harley Sule yang Jadi Sebab Lina Gugat CeraicelebIni Lho Moge Harley Sule yang Jadi Sebab Lina Gugat CeraicelebIni Lho Moge Harley Sule yang Jadi Sebab Lina Gugat CeraicelebIni Lho Moge Harley Sule yang Jadi Sebab Lina Gugat CeraicelebIstana Sule yang Konon Senilai Rp 15 M & Sederet \\'Kuda\\' MewahnyacelebIstana Sule yang Konon Senilai Rp 15 M & Sederet \\'Kuda\\' MewahnyacelebIstana Sule yang Konon Senilai Rp 15 M & Sederet \\'Kuda\\' MewahnyacelebIstana Sule yang Konon Senilai Rp 15 M & Sederet \\'Kuda\\' MewahnyacelebIstana Sule yang Konon Senilai Rp 15 M & Sederet \\'Kuda\\' MewahnyacelebIstana Sule yang Konon Senilai Rp 15 M & Sederet \\'Kuda\\' MewahnyacelebIstana Sule yang Konon Senilai Rp 15 M & Sederet \\'Kuda\\' MewahnyacelebIstana Sule yang Konon Senilai Rp 15 M & Sederet \\'Kuda\\' MewahnyacelebIstana Sule yang Konon Senilai Rp 15 M & Sederet \\'Kuda\\' MewahnyacelebKemesraan Sule & Lina Tinggal Kenangan, Avengers Tato-an BarengcelebKemesraan Sule & Lina Tinggal Kenangan, Avengers Tato-an BarengcelebKemesraan Sule & Lina Tinggal Kenangan, Avengers Tato-an BarengcelebKemesraan Sule & Lina Tinggal Kenangan, Avengers Tato-an BarengcelebKemesraan Sule & Lina Tinggal Kenangan, Avengers Tato-an BarengcelebKemesraan Sule & Lina Tinggal Kenangan, Avengers Tato-an BarengcelebKemesraan Sule & Lina Tinggal Kenangan, Avengers Tato-an BarengcelebKemesraan Sule & Lina Tinggal Kenangan, Avengers Tato-an BarengcelebKemesraan Sule & Lina Tinggal Kenangan, Avengers Tato-an BarengcelebSaat sang Istri Beri Kejutan Sule di Ulang TahunnyacelebSaat sang Istri Beri Kejutan Sule di Ulang TahunnyacelebSaat sang Istri Beri Kejutan Sule di Ulang TahunnyacelebSaat sang Istri Beri Kejutan Sule di Ulang TahunnyacelebSaat sang Istri Beri Kejutan Sule di Ulang TahunnyacelebSaat sang Istri Beri Kejutan Sule di Ulang TahunnyacelebSule Digugat Cerai, Intip Lagi Kebersamaannya dengan IstricelebSule Digugat Cerai, Intip Lagi Kebersamaannya dengan IstricelebSule Digugat Cerai, Intip Lagi Kebersamaannya dengan IstricelebSule Digugat Cerai, Intip Lagi Kebersamaannya dengan IstricelebSule Digugat Cerai, Intip Lagi Kebersamaannya dengan IstricelebSule Digugat Cerai, Intip Lagi Kebersamaannya dengan IstricelebSule Digugat Cerai, Intip Lagi Kebersamaannya dengan Istri ',\n",
       " 'Jakarta - Dipha Barus dan Vanessa Budiharja resmi menjadi suami-istri. Keduanya baru saja melangsungkan pernikahan di Los Angels, Amerika Serikat.Usai menikah, Dipha Barus dan istrinya itu langsung melanjutkan bulan madu di sana. Hal itu diketahui dari manajernya, Tri Wardoyo.\"Iya mungkin (honey moon),\" kata Tri Wardoyo saat dihubungi, Sabtu (4/1/2020).Dipha Barus rencananya akan menikmati kehidupan barunya itu selama sebulan penuh. Setelah itu, ia baru akan kembali untuk bekerja.\"Jadi ada liburan, sama nanti Dipha Barus ada sesi sama Ultra Music untuk single selanjutnya. mungkin sebulan,\" Tri Wardoyo menandaskan.Baca juga: Dikontrak Ultra Records, Dipha Barus: Nggak Mikir Go InternasionalSimak Video \"Selamat! Dipha Barus Resmi Menikah dengan Vanessa\"[Gambas:Video 20detik](hnh/dal)dipha barusdipha barus menikahPhoto Galleryon-stageSound of Tri: Iringan Musik dan Kemewahan Electrical Foreston-stageSound of Tri: Iringan Musik dan Kemewahan Electrical Foreston-stageSound of Tri: Iringan Musik dan Kemewahan Electrical Foreston-stageSound of Tri: Iringan Musik dan Kemewahan Electrical Foreston-stageSound of Tri: Iringan Musik dan Kemewahan Electrical Foreston-stageSound of Tri: Iringan Musik dan Kemewahan Electrical Foreston-stageSound of Tri: Iringan Musik dan Kemewahan Electrical Foreston-stageShake Your Body ! Dipha Barus Tutup d\\'HOT Music Dayon-stageShake Your Body ! Dipha Barus Tutup d\\'HOT Music Dayon-stageShake Your Body ! Dipha Barus Tutup d\\'HOT Music Dayon-stageShake Your Body ! Dipha Barus Tutup d\\'HOT Music Dayon-stageShake Your Body ! Dipha Barus Tutup d\\'HOT Music Dayon-stageShake Your Body ! Dipha Barus Tutup d\\'HOT Music Dayon-stageShake Your Body ! Dipha Barus Tutup d\\'HOT Music Dayon-stageShake Your Body ! Dipha Barus Tutup d\\'HOT Music Dayon-stageJangan Kasih Kendor! Dipha Barus Hentak DWP 2016 Hari Keduaon-stageJangan Kasih Kendor! Dipha Barus Hentak DWP 2016 Hari Keduaon-stageJangan Kasih Kendor! Dipha Barus Hentak DWP 2016 Hari Keduaon-stageJangan Kasih Kendor! Dipha Barus Hentak DWP 2016 Hari Keduaon-stageJangan Kasih Kendor! Dipha Barus Hentak DWP 2016 Hari Keduaon-stageJangan Kasih Kendor! Dipha Barus Hentak DWP 2016 Hari Kedua ',\n",
       " 'Jakarta - Ustaz Yusuf Mansur mendadak di-bully di Instagram. Hal itu dikarenakan dirinya diduga telah melakukan tindakan yang tak menyenangkan ke Gubernur Jakarta Anies Baswedan.Dalam sebuah foto, Yusuf Mansur terlihat memberikan emoji tertawa saat melihat Instagram Live Anies Baswedan yang sedang inspeksi banjir di Cawang, Jakarta Timur. Memang ada tiga simbol tertawa dalam komentar Yusuf.Namun, Yusuf Mansur merasa tak pernah menertawakan Anies Baswedan. Sambil menjelaskan kepada netizen di media sosial, ia mengaku ada yang sengaja ingin menjahatinya.\"Abis ngertawain anis gimana tadi rasanya dibulli,\" komen akun @iam_ayu.12.Baca juga: Kerap Diserang Berita Hoax, Yusuf Mansur Tetap Bersyukur\"Itu hoax bosku sayang. Ada yg ngedit2. Jd pict itu palsu. Tp gpp. Udah keliatan. Ada yg mau bentur2in. Dan seperti biasa, ga mau nerima penjelasan hehehe. Udah saya ig in jg berkali2. Its oke,\" balas Yusuf.Sang ulama mengaku awalnya mengira komentar menertawakan itu benar ditulisnya. Tapi setelah dicek lagi, ia menemukan kebenaran dan tak pernah menertawakan, tapi mengirim doa ke Anies Baswedan.\"Semula saya pikir saya kepeleset ngetik. Sbg bentuk baik sangka. Masa nuduh orang. Tp kemudian kerja. Saya jg minta bbrp kwn melototin dg seksama. Apa iya ada emot begitu dan binggo!! Yang ada justru 2x doa,\" tuturnya.Yusuf Mansur masih punya bukti soal tak pernah menertawakan Anies Baswedan. Kalau masih juga tak percaya, ia tak mempermasalahkannya.\"Kami msh simpen live lengkapnya pak @aniesbaswedan lengkap dg segala komennya. Dan sekali lagi, ga ada emot itu. Mksh ya. Gpp jg ga percaya hehe,\" katanya.Baca juga: Yusuf Mansur Unggah Penyanyi Cantik AS Mualaf yang Lantunkan Al BaqarahSimak Video \"Tinjau Titik Banjir di Duri Kosambi, Gubernur Anies Diteriaki Warga\"[Gambas:Video 20detik](mau/dal)yusuf mansuranies baswedanbanjirbanjir 1 januari 2020Photo GallerycelebAjak Anggota DPRD, Eko Patrio Temui Korban BanjircelebAjak Anggota DPRD, Eko Patrio Temui Korban BanjircelebAjak Anggota DPRD, Eko Patrio Temui Korban BanjircelebAjak Anggota DPRD, Eko Patrio Temui Korban BanjircelebAjak Anggota DPRD, Eko Patrio Temui Korban BanjircelebAjak Anggota DPRD, Eko Patrio Temui Korban BanjircultureMakna di Balik Seni Bambu Getah Getih Karya Joko AviantocultureMakna di Balik Seni Bambu Getah Getih Karya Joko AviantocultureMakna di Balik Seni Bambu Getah Getih Karya Joko AviantocultureMakna di Balik Seni Bambu Getah Getih Karya Joko AviantocultureMakna di Balik Seni Bambu Getah Getih Karya Joko AviantocultureMakna di Balik Seni Bambu Getah Getih Karya Joko AviantocultureMakna di Balik Seni Bambu Getah Getih Karya Joko AviantocultureMakna di Balik Seni Bambu Getah Getih Karya Joko AviantocelebJenazah Ustaz Arifin Ilham Disambut Tokoh, Ulama dan SahabatcelebJenazah Ustaz Arifin Ilham Disambut Tokoh, Ulama dan SahabatcelebJenazah Ustaz Arifin Ilham Disambut Tokoh, Ulama dan SahabatcelebJenazah Ustaz Arifin Ilham Disambut Tokoh, Ulama dan SahabatcelebJenazah Ustaz Arifin Ilham Disambut Tokoh, Ulama dan SahabatcelebJenazah Ustaz Arifin Ilham Disambut Tokoh, Ulama dan SahabatcelebJenazah Ustaz Arifin Ilham Disambut Tokoh, Ulama dan SahabatcelebJenazah Ustaz Arifin Ilham Disambut Tokoh, Ulama dan SahabatcelebJenazah Ustaz Arifin Ilham Disambut Tokoh, Ulama dan SahabatcultureLebih Dekat dengan Ledania, Seniman Cantik yang Muralnya Diresmikan AniescultureLebih Dekat dengan Ledania, Seniman Cantik yang Muralnya Diresmikan AniescultureLebih Dekat dengan Ledania, Seniman Cantik yang Muralnya Diresmikan AniescultureLebih Dekat dengan Ledania, Seniman Cantik yang Muralnya Diresmikan AniescultureLebih Dekat dengan Ledania, Seniman Cantik yang Muralnya Diresmikan AniescultureLebih Dekat dengan Ledania, Seniman Cantik yang Muralnya Diresmikan AniescultureAnies dan Instalasi Bambu Joko Avianto untuk Asian Games 2018cultureAnies dan Instalasi Bambu Joko Avianto untuk Asian Games 2018cultureAnies dan Instalasi Bambu Joko Avianto untuk Asian Games 2018cultureAnies dan Instalasi Bambu Joko Avianto untuk Asian Games 2018cultureAnies dan Instalasi Bambu Joko Avianto untuk Asian Games 2018cultureAnies dan Instalasi Bambu Joko Avianto untuk Asian Games 2018cultureAnies dan Instalasi Bambu Joko Avianto untuk Asian Games 2018cultureSiapakah Arsitek Bandung yang Komentari \\'Beautifikasi\\' Anies?cultureSiapakah Arsitek Bandung yang Komentari \\'Beautifikasi\\' Anies?cultureSiapakah Arsitek Bandung yang Komentari \\'Beautifikasi\\' Anies?cultureSiapakah Arsitek Bandung yang Komentari \\'Beautifikasi\\' Anies?cultureSiapakah Arsitek Bandung yang Komentari \\'Beautifikasi\\' Anies?cultureSiapakah Arsitek Bandung yang Komentari \\'Beautifikasi\\' Anies?cultureSiapakah Arsitek Bandung yang Komentari \\'Beautifikasi\\' Anies?cultureBeda \\'Beautifikasi\\' Anies-Sandi dan Kampung CibunutcultureBeda \\'Beautifikasi\\' Anies-Sandi dan Kampung CibunutcultureBeda \\'Beautifikasi\\' Anies-Sandi dan Kampung CibunutcultureBeda \\'Beautifikasi\\' Anies-Sandi dan Kampung CibunutcultureBeda \\'Beautifikasi\\' Anies-Sandi dan Kampung CibunutcultureBeda \\'Beautifikasi\\' Anies-Sandi dan Kampung CibunutcultureBeda \\'Beautifikasi\\' Anies-Sandi dan Kampung CibunutcultureBeda \\'Beautifikasi\\' Anies-Sandi dan Kampung CibunutcultureBeda \\'Beautifikasi\\' Anies-Sandi dan Kampung CibunutcultureBeda \\'Beautifikasi\\' Anies-Sandi dan Kampung CibunutcelebKeseruan Local Stand Up Day, 30 Komika hingga Anies BaswedancelebKeseruan Local Stand Up Day, 30 Komika hingga Anies BaswedancelebKeseruan Local Stand Up Day, 30 Komika hingga Anies BaswedancelebKeseruan Local Stand Up Day, 30 Komika hingga Anies BaswedancelebKeseruan Local Stand Up Day, 30 Komika hingga Anies BaswedancelebKeseruan Local Stand Up Day, 30 Komika hingga Anies BaswedancelebKeseruan Local Stand Up Day, 30 Komika hingga Anies BaswedancelebSiapa Kathy Indera yang Sewot ke Anies Baswedan?celebSiapa Kathy Indera yang Sewot ke Anies Baswedan?celebSiapa Kathy Indera yang Sewot ke Anies Baswedan?celebSiapa Kathy Indera yang Sewot ke Anies Baswedan?celebSiapa Kathy Indera yang Sewot ke Anies Baswedan?celebSiapa Kathy Indera yang Sewot ke Anies Baswedan?celebSiapa Kathy Indera yang Sewot ke Anies Baswedan?celebSiapa Kathy Indera yang Sewot ke Anies Baswedan?celebManisnya Putri Yusuf Mansur yang Ingin Beli YouTube!celebManisnya Putri Yusuf Mansur yang Ingin Beli YouTube!celebManisnya Putri Yusuf Mansur yang Ingin Beli YouTube!celebManisnya Putri Yusuf Mansur yang Ingin Beli YouTube!celebManisnya Putri Yusuf Mansur yang Ingin Beli YouTube!celebManisnya Putri Yusuf Mansur yang Ingin Beli YouTube!celebManisnya Putri Yusuf Mansur yang Ingin Beli YouTube!photoLimbad Bantu Korban Banjir di JakartaphotoShinta Bachir Berikan Bantuan Korban BanjirphotoSiti Liza Beri Bantuan pada Korban BanjirphotoBanjir Artis di Peluncuran Miniblog ',\n",
       " \"Jakarta - DKI Jakarta memiliki sejumlah proyek infrastruktur untuk menanggulangi bencana banjir di ibu kota. Bahkan, proyek-proyek ini sudah diinisiasikan sebelum Gubernur DKI Jakarta Anies Baswedan menjabat. Mulai dari multi purpose deep tunnel (MPDT) alias gorong-gorong raksasa yang sudah dicanangkan sejak tahun 2007, di mana kala itu Sutiyoso Gubernurnya. Mengintip catatan detikcom, berikut sederet proyek infrastruktur 'anti'banjir Jakarta:1. Multi Purpose Deep Tunnel (MPDT) atau Terowongan 'Raksasa' Anti BanjirProyek Multi Purpose Deep Tunnel atau terowongan 'raksasa' di Jakarta selain bermanfaat untuk atasi banjir juga bisa dipakai untuk jalan tol. Rencananya terowongan berdiameter 12 meter ini juga akan terhubung dengan jalan tol lainnya.Dalam perencanaannya, tol yang akan membujur sepanjang terowongan ini akan terhubung dengan jaringan tol Lingkar Luar Jakarta I (JORR I) dan dalam kota.Baca juga: Luhut Minta DKI Lebih Berani Bebaskan Lahan CiliwungTerowongan ini akan membentang sepanjang 23 Km ini hanya akan ada 2 pintu keluar masuk kendaraan, yakni di Balai Kambang Condet Jakarta Timur dan di Tanjung Priok Jakarta Utara.Selain itu, jalan tol ini pun diharapkan bisa berkontribusi terhadap pendapatan atau pengembalian modal dari total investasi pembangun mega proyek ini, yang diperkirakan mencapai Rp 26 triliun.Proyek yang dijagokan sebagai penangkal banjir multi fungsi merupakan gagasan Gubernur DKI Jakarta periode 1997-2007 Sutiyoso. Pada tahun 2013, proyek yang tak ada kabarnya itu kemudian disuarakan kembali ketika Joko Widodo (Jokowi) masih menjabat sebagai Gubernur DKi Jakarta.Menteri PU saat itu Djoko Kirmanto optimistis proyek ini dapat direalisasikan. Pasalnya, di negara-negara lain konsep terowongan multiguna ini sudah diterapkan. Contohnya seperti Malaysia, Amerika dan Jepang. Proyek deep tunnel kemudian dimasukkan dalam Rencana Pembangunan Jangka Menengah Daerah (RPJMD) tahun 2013-2017. Namun, sejak tahun 2015, proyek tersebut kembali 'mentah'. Deputi Menteri Koodinator Bidang Perekonomian bidang Infrastruktur Lucky Eko Wuryanto kala itu menyebut proyek tersebut tidak layak secara finansial. Cenderung mahal dan tidak akan begitu efektif mengatasi curah hujan yang tinggi di Jakarta dalam musim tertentu. Hingga saat ini, proyek tersebut tak ada kabarnya lagi. Selanjutnya Halaman1234proyek antibanjirbanjirjakarta banjirbanjir jakarta\"]"
      ]
     },
     "execution_count": 57,
     "metadata": {},
     "output_type": "execute_result"
    }
   ],
   "source": [
    "top_berita = [n for n in top_berita if n]\n",
    "top_berita"
   ]
  },
  {
   "cell_type": "code",
   "execution_count": null,
   "metadata": {},
   "outputs": [],
   "source": []
  }
 ],
 "metadata": {
  "kernelspec": {
   "display_name": "Python 3",
   "language": "python",
   "name": "python3"
  },
  "language_info": {
   "codemirror_mode": {
    "name": "ipython",
    "version": 3
   },
   "file_extension": ".py",
   "mimetype": "text/x-python",
   "name": "python",
   "nbconvert_exporter": "python",
   "pygments_lexer": "ipython3",
   "version": "3.6.9"
  }
 },
 "nbformat": 4,
 "nbformat_minor": 4
}
