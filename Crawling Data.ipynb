{
 "cells": [
  {
   "cell_type": "code",
   "execution_count": 4,
   "metadata": {},
   "outputs": [],
   "source": [
    "from bs4 import BeautifulSoup\n",
    "import requests\n",
    "\n",
    "url = \"https://www.detik.com/\"\n",
    "response = requests.get(url)\n",
    "\n",
    "soup = BeautifulSoup(response.content, \"html.parser\")\n",
    "\n",
    "#print(soup.prettify())"
   ]
  },
  {
   "cell_type": "code",
   "execution_count": 11,
   "metadata": {},
   "outputs": [
    {
     "name": "stdout",
     "output_type": "stream",
     "text": [
      "<article class=\"list-content__item column\">\n",
      "<div class=\"media media--image-radius block-link\">\n",
      "<div class=\"media__image\">\n",
      "<a class=\"media__link\" href=\"https://finance.detik.com/read/2020/01/04/000446/4846009/4/polemik-natuna-china-tni-siap-tempur-prabowo-cool?tag_from=wp_beritautama\" onclick='_pt(this, \"box berita utama\", \"Polemik Natuna-China: TNI Siap Tempur, Prabowo Cool\", \"artikel 1\")'>\n",
      "<span class=\"ratiobox ratiobox--16-9 lqd\">\n",
      "<img alt=\"Polemik Natuna-China: TNI Siap Tempur, Prabowo Cool\" class=\"\" src=\"https://akcdn.detik.net.id/visual/2020/01/03/8aa4984e-8bed-494a-80c6-8887a45d6938_169.jpeg?w=250&amp;q=90\" title=\"Polemik Natuna-China: TNI Siap Tempur, Prabowo Cool\"> </img></span>\n",
      "</a>\n",
      "</div>\n",
      "<div class=\"media__text\">\n",
      "<h2 class=\"media__title\">\n",
      "<a class=\"media__link\" href=\"https://finance.detik.com/read/2020/01/04/000446/4846009/4/polemik-natuna-china-tni-siap-tempur-prabowo-cool?tag_from=wp_beritautama\" onclick='_pt(this, \"box berita utama\", \"Polemik Natuna-China: TNI Siap Tempur, Prabowo Cool\", \"artikel 1\")'>\n",
      "                    Polemik Natuna-China: TNI Siap Tempur, Prabowo Cool                </a>\n",
      "</h2>\n",
      "</div>\n",
      "</div>\n",
      "</article>\n"
     ]
    }
   ],
   "source": [
    "artikel = soup.find(\"article\")\n",
    "print(artikel)"
   ]
  },
  {
   "cell_type": "code",
   "execution_count": 12,
   "metadata": {},
   "outputs": [
    {
     "name": "stdout",
     "output_type": "stream",
     "text": [
      "\n",
      "\n",
      "\n",
      "\n",
      "\n",
      " \n",
      "\n",
      "\n",
      "\n",
      "\n",
      "\n",
      "                    Polemik Natuna-China: TNI Siap Tempur, Prabowo Cool                \n",
      "\n",
      "\n",
      "\n",
      "\n"
     ]
    }
   ],
   "source": [
    "artikel = artikel.text\n",
    "print(artikel)"
   ]
  },
  {
   "cell_type": "code",
   "execution_count": 19,
   "metadata": {},
   "outputs": [
    {
     "data": {
      "text/plain": [
       "'                     Polemik Natuna-China: TNI Siap Tempur, Prabowo Cool                '"
      ]
     },
     "execution_count": 19,
     "metadata": {},
     "output_type": "execute_result"
    }
   ],
   "source": [
    "artikel.replace(\"\\n\",\"\")"
   ]
  },
  {
   "cell_type": "code",
   "execution_count": 14,
   "metadata": {},
   "outputs": [
    {
     "data": {
      "text/plain": [
       "'\\n\\n\\n\\n\\n \\n\\n\\n\\n\\n\\n                    Polemik Natuna-China: TNI Siap Tempur, Prabowo Cool                \\n\\n\\n\\n'"
      ]
     },
     "execution_count": 14,
     "metadata": {},
     "output_type": "execute_result"
    }
   ],
   "source": [
    "soup.article.text"
   ]
  },
  {
   "cell_type": "code",
   "execution_count": 27,
   "metadata": {},
   "outputs": [
    {
     "name": "stdout",
     "output_type": "stream",
     "text": [
      "#\n",
      "https://www.detik.com/?tagfrom=framebar\n",
      "https://www.detik.com/terpopuler?tag_from=framebar\n",
      "https://news.detik.com/kolom/kirim?tag_from=framebar\n",
      "https://www.detik.com/transmedia?tag_from=framebar\n",
      "https://news.detik.com?tag_from=framebar\n",
      "https://finance.detik.com?tag_from=framebar\n",
      "https://inet.detik.com?tag_from=framebar\n",
      "https://hot.detik.com?tag_from=framebar\n",
      "https://sport.detik.com?tag_from=framebar\n",
      "https://sport.detik.com/sepakbola?tag_from=framebar\n",
      "https://oto.detik.com?tag_from=framebar\n",
      "https://travel.detik.com?tag_from=framebar\n",
      "https://food.detik.com?tag_from=framebar\n",
      "https://health.detik.com?tag_from=framebar\n",
      "https://wolipop.detik.com?tag_from=framebar\n",
      "https://x.detik.com?tag_from=framebar\n",
      "https://20.detik.com?tag_from=framebar\n",
      "https://foto.detik.com?tag_from=framebar\n",
      "https://pasangmata.detik.com?tag_from=framebar\n",
      "https://adsmart.detik.com?tag_from=framebar\n",
      "http://forum.detik.com?tag_from=framebar\n",
      "https://event.detik.com?tag_from=framebar\n",
      "https://poin.detikshop.com?tag_from=framebar\n",
      "https://www.transsnowworld.com\n",
      "https://www.transstudiobali.com\n",
      "https://www.transstudiocibubur.com\n",
      "https://www.cnnindonesia.com?tag_from=framebar\n",
      "https://www.cnbcindonesia.com?tag_from=framebar\n",
      "https://www.haibunda.com?tag_from=framebar\n",
      "https://www.insertlive.com?tag_from=framebar\n",
      "https://www.beautynesia.id?tag_from=framebar\n",
      "https://www.femaledaily.com?tag_from=framebar\n",
      "https://www.detik.com\n",
      "https://news.detik.com/?tag_from=wp_firstnav_detikNews\n",
      "https://finance.detik.com/?tag_from=wp_firstnav_detikFinance\n",
      "https://hot.detik.com/?tag_from=wp_firstnav_detikHot\n",
      "https://inet.detik.com/?tag_from=wp_firstnav_detikInet\n",
      "https://sport.detik.com/?tag_from=wp_firstnav_detikSport\n",
      "https://oto.detik.com/?tag_from=wp_firstnav_detikOto\n",
      "https://travel.detik.com/?tag_from=wp_firstnav_detikTravel\n",
      "https://food.detik.com/?tag_from=wp_firstnav_detikFood\n",
      "https://health.detik.com/?tag_from=wp_firstnav_detikHealth\n",
      "https://wolipop.detik.com/?tag_from=wp_firstnav_Wolipop\n",
      "https://20.detik.com/?tag_from=wp_firstnav_20Detik\n",
      "https://www.detik.com/transmedia/?tag_from=wp_secnav_Live TV\n",
      "https://adsmart.detik.com/?tag_from=wp_secnav_Adsmart\n",
      "https://foto.detik.com/?tag_from=wp_secnav_Foto\n",
      "https://news.detik.com/x/?tag_from=wp_secnav_detikX\n",
      "https://sport.detik.com/sepakbola/?tag_from=wp_secnav_Sepakbola\n",
      "https://pasangmata.detik.com/?tag_from=wp_secnav_Pasangmata\n",
      "https://www.detik.com/tag/hikmah/?tag_from=wp_secnav_Hikmah\n",
      "https://www.detik.com/\n",
      "#\n",
      "https://finance.detik.com/read/2020/01/04/000446/4846009/4/polemik-natuna-china-tni-siap-tempur-prabowo-cool?tag_from=wp_beritautama\n",
      "https://finance.detik.com/read/2020/01/04/000446/4846009/4/polemik-natuna-china-tni-siap-tempur-prabowo-cool?tag_from=wp_beritautama\n",
      "https://hot.detik.com/read/2020/01/04/082628/4846090/230/lina-mantan-istri-sule-meninggal-karena-serangan-jantung?tag_from=wp_beritautama\n",
      "https://hot.detik.com/read/2020/01/04/082628/4846090/230/lina-mantan-istri-sule-meninggal-karena-serangan-jantung?tag_from=wp_beritautama\n",
      "https://oto.detik.com/read/2020/01/04/080519/4846068/1207/melintasi-banjir-dengan-naik-mobil-lakukan-diagnosis-awal-ini?tag_from=wp_beritautama\n",
      "https://oto.detik.com/read/2020/01/04/080519/4846068/1207/melintasi-banjir-dengan-naik-mobil-lakukan-diagnosis-awal-ini?tag_from=wp_beritautama\n",
      "https://finance.detik.com/read/2020/01/03/193322/4845830/4/ingin-damai-soal-natuna-prabowo-china-negara-sahabat?tag_from=wp_beritautama\n",
      "https://finance.detik.com/read/2020/01/03/193322/4845830/4/ingin-damai-soal-natuna-prabowo-china-negara-sahabat?tag_from=wp_beritautama\n",
      "https://news.detik.com/read/2020/01/03/193154/4845841/10/indonesia-vs-china-rebutan-natuna-2-hal-ini-jadi-dasar-hukumnya?tag_from=wp_beritautama\n",
      "https://news.detik.com/read/2020/01/03/193154/4845841/10/indonesia-vs-china-rebutan-natuna-2-hal-ini-jadi-dasar-hukumnya?tag_from=wp_beritautama\n",
      "https://news.detik.com/indeks?tag_from=wp_nhl_indeks\n",
      "#\n",
      "#\n",
      "#\n",
      "#\n",
      "#\n",
      "#\n",
      "https://20.detik.com/?tag_from=wp_belt_videoTerpopuler\n",
      "https://20.detik.com/e-flash/20200104-200104009/breaking-lina-mantan-istri-sule-meninggal-dunia?tag_from=wp_belt_videoTerpopuler\n",
      "https://20.detik.com/e-flash/20200104-200104009/breaking-lina-mantan-istri-sule-meninggal-dunia?tag_from=wp_belt_videoTerpopuler\n",
      "https://20.detik.com/e-flash/20200104-200104011/lina-meninggal-sule-dan-rizky-febian-batal-hadiri-acara-di-surabaya?tag_from=wp_belt_videoTerpopuler\n",
      "https://20.detik.com/e-flash/20200104-200104011/lina-meninggal-sule-dan-rizky-febian-batal-hadiri-acara-di-surabaya?tag_from=wp_belt_videoTerpopuler\n",
      "https://20.detik.com/detikflash/20200104-200104003/kapal-china-ke-natuna-tni-bersiaga?tag_from=wp_belt_videoTerpopuler\n",
      "https://20.detik.com/detikflash/20200104-200104003/kapal-china-ke-natuna-tni-bersiaga?tag_from=wp_belt_videoTerpopuler\n",
      "#\n",
      "#\n",
      "#\n",
      "#\n",
      "#\n",
      "#\n",
      "#\n",
      "#\n",
      "#\n",
      "#\n",
      "#\n",
      "#\n",
      "#\n",
      "#\n",
      "#\n",
      "#\n",
      "#\n",
      "#\n",
      "#\n",
      "#\n",
      "#\n",
      "#\n",
      "#\n",
      "#\n",
      "#\n",
      "#\n",
      "#\n",
      "#\n",
      "#\n",
      "#\n",
      "#\n",
      "#\n",
      "#\n",
      "#\n",
      "#\n",
      "#\n",
      "#\n",
      "#\n",
      "#\n",
      "#\n",
      "#\n",
      "#\n",
      "#\n",
      "#\n",
      "#\n",
      "#\n",
      "#\n",
      "#\n",
      "#\n",
      "#\n",
      "#\n",
      "#\n",
      "#\n",
      "#\n",
      "https://www.detik.com/\n",
      "https://www.detik.com/tag/banjir?tag_from=wp_tagpopuler\n",
      "https://www.detik.com/tag/anies-baswedan?tag_from=wp_tagpopuler\n",
      "https://www.detik.com/tag/normalisasi-ciliwung?tag_from=wp_tagpopuler\n",
      "https://www.detik.com/tag/medina-zein?tag_from=wp_tagpopuler\n",
      "https://www.detik.com/tag/natuna?tag_from=wp_tagpopuler\n",
      "https://hot.detik.com/celeb/d-4846090/lina-mantan-istri-sule-meninggal-karena-serangan-jantung?tag_from=wp_cb_mostPopular_list\n",
      "https://hot.detik.com/celeb/d-4846073/lina-mantan-istri-sule-meninggal-dunia?tag_from=wp_cb_mostPopular_list\n",
      "https://hot.detik.com/celeb/d-4846101/netizen-ikut-berduka-atas-kepergian-lina-mantan-istri-sule?tag_from=wp_cb_mostPopular_list\n",
      "https://hot.detik.com/celeb/d-4846130/sule-gotong-keranda-jenazah-mantan-istri?tag_from=wp_cb_mostPopular_list\n",
      "https://hot.detik.com/celeb/d-4846107/mantan-istri-meninggal-dunia-sule-batalkan-kegiatan-di-surabaya?tag_from=wp_cb_mostPopular_list\n",
      "https://www.detik.com/terpopuler?tag_from=wp_cb_mostPopular_more\n",
      "https://www.detik.com/\n",
      "https://www.facebook.com/detikcom\n",
      "https://twitter.com/detikcom\n",
      "https://instagram.com/detikcom/\n",
      "https://www.linkedin.com/company/detik-com/\n",
      "https://www.youtube.com/channel/UCuMAjEaSMj7q7YLf0xW1MjQ\n",
      "https://news.detik.com\n",
      "https://finance.detik.com\n",
      "https://inet.detik.com\n",
      "https://hot.detik.com\n",
      "https://sport.detik.com\n",
      "https://sport.detik.com/sepakbola\n",
      "https://oto.detik.com\n",
      "https://travel.detik.com\n",
      "https://food.detik.com\n",
      "https://health.detik.com\n",
      "https://wolipop.detik.com\n",
      "https://news.detik.com/x/\n",
      "https://20.detik.com\n",
      "https://foto.detik.com\n",
      "https://pasangmata.detik.com\n",
      "https://adsmart.detik.com\n",
      "http://forum.detik.com\n",
      "https://event.detik.com\n",
      "https://poin.detikshop.com/\n",
      "https://www.transsnowworld.com/\n",
      "https://www.detik.com/redaksi\n",
      "https://www.detik.com/pedoman-media\n",
      "https://www.detik.com/karir\n",
      "https://www.detik.com/kotak-pos\n",
      "https://www.detik.com/media-partner\n",
      "https://www.detik.com/info-iklan\n",
      "https://www.detik.com/privacy-policy\n",
      "https://www.detik.com/disclaimer\n",
      "https://www.cnnindonesia.com\n",
      "https://www.cnbcindonesia.com\n",
      "https://www.haibunda.com\n",
      "https://www.insertlive.com/\n",
      "https://beautynesia.id\n",
      "https://femaledaily.com\n"
     ]
    }
   ],
   "source": [
    "artikel_a = []\n",
    "artikel_bersih = []\n",
    "\n",
    "for link in soup.find_all(\"a\"):\n",
    "    print(link.get('href'))"
   ]
  },
  {
   "cell_type": "code",
   "execution_count": 28,
   "metadata": {},
   "outputs": [
    {
     "data": {
      "text/plain": [
       "<a href=\"https://femaledaily.com\" onclick='_pt(this, \"footer\", \"menu footer\", \"menu female daily\")' target=\"_blank\">Female Daily</a>"
      ]
     },
     "execution_count": 28,
     "metadata": {},
     "output_type": "execute_result"
    }
   ],
   "source": [
    "link"
   ]
  },
  {
   "cell_type": "code",
   "execution_count": 56,
   "metadata": {},
   "outputs": [],
   "source": [
    "target_1 = []\n",
    "\n",
    "for link in soup.find_all('a'):\n",
    "    target_1.append(link.get('href'))"
   ]
  },
  {
   "cell_type": "code",
   "execution_count": 69,
   "metadata": {},
   "outputs": [],
   "source": [
    "data_1 = []\n",
    "\n",
    "for artikel in soup.find_all('article'):\n",
    "    data_1.append(artikel.text.replace(\"\\n\",\"\"))"
   ]
  },
  {
   "cell_type": "code",
   "execution_count": 74,
   "metadata": {},
   "outputs": [],
   "source": [
    "link_2 = []\n",
    "\n",
    "for artikel_1 in artikel.find_all('a'):\n",
    "    link_2.append(artikel_1.get('href'))"
   ]
  },
  {
   "cell_type": "code",
   "execution_count": 75,
   "metadata": {},
   "outputs": [
    {
     "data": {
      "text/plain": [
       "['https://hot.detik.com/celeb/d-4846107/mantan-istri-meninggal-dunia-sule-batalkan-kegiatan-di-surabaya?tag_from=wp_cb_mostPopular_list']"
      ]
     },
     "execution_count": 75,
     "metadata": {},
     "output_type": "execute_result"
    }
   ],
   "source": [
    "link_2"
   ]
  },
  {
   "cell_type": "code",
   "execution_count": 10,
   "metadata": {},
   "outputs": [],
   "source": [
    "data_artikel = []\n",
    "data_artikel_2 = []\n",
    "\n",
    "for artikel_1 in soup.find_all('article'):\n",
    "    data_artikel.append(artikel_1)\n",
    "for artikel_2 in data_artikel:\n",
    "    artikel_2 = artikel_2.find('a')\n",
    "    data_artikel_2.append(artikel_2.get('href'))"
   ]
  },
  {
   "cell_type": "code",
   "execution_count": 14,
   "metadata": {},
   "outputs": [],
   "source": [
    "link_artikel = []\n",
    "\n",
    "for n in data_artikel_2:\n",
    "    if n != '#':\n",
    "        link_artikel.append(n)"
   ]
  },
  {
   "cell_type": "code",
   "execution_count": 15,
   "metadata": {},
   "outputs": [
    {
     "data": {
      "text/plain": [
       "['https://finance.detik.com/read/2020/01/04/143558/4846419/1034/harga-bbm-total-dan-shell-turun-murah-mana-sama-pertamina?tag_from=wp_beritautama',\n",
       " 'https://oto.detik.com/read/2020/01/04/141318/4846395/1208/8-tips-motor-lewati-banjir?tag_from=wp_beritautama',\n",
       " 'https://finance.detik.com/read/2020/01/04/133915/4846376/4/kkp-ungkap-kapal-asing-sering-wira-wiri-di-natuna-ini-asalnya?tag_from=wp_beritautama',\n",
       " 'https://inet.detik.com/readfoto/2020/01/04/120556/4846285/1146/1/xiaomi-mi-note-10-pro-ponsel-pertama-berkamera-108-pixel-di-dunia?tag_from=wp_beritautama',\n",
       " 'https://finance.detik.com/read/2020/01/04/111514/4846223/1034/awal-2020-total-dan-shell-turunkan-harga-bbm?tag_from=wp_beritautama',\n",
       " 'https://20.detik.com/e-flash/20200104-200104039/bukan-sakit-jantung-rizky-febian-ceritakan-penyebab-lina-meninggal?tag_from=wp_belt_videoTerpopuler',\n",
       " 'https://20.detik.com/e-flash/20200104-200104036/berurai-air-mata-rizky-febian-kenang-jasa-ibunda?tag_from=wp_belt_videoTerpopuler',\n",
       " 'https://20.detik.com/e-flash/20200104-200104032/rizky-febian-punya-firasat-sebelum-lina-meninggal?tag_from=wp_belt_videoTerpopuler',\n",
       " 'https://www.detik.com/tag/banjir?tag_from=wp_tagpopuler',\n",
       " 'https://www.detik.com/tag/anies-baswedan?tag_from=wp_tagpopuler',\n",
       " 'https://www.detik.com/tag/normalisasi-ciliwung?tag_from=wp_tagpopuler',\n",
       " 'https://www.detik.com/tag/mantan-istri-sule?tag_from=wp_tagpopuler',\n",
       " 'https://www.detik.com/tag/natuna?tag_from=wp_tagpopuler',\n",
       " 'https://news.detik.com/berita/d-4846482/6-fakta-meninggalnya-mantan-istri-sule-yang-jadi-google-trending?tag_from=wp_cb_mostPopular_list',\n",
       " 'https://news.detik.com/berita/d-4846516/anies-singgung-banjir-jakarta-era-jokowi-pdip-harusnya-fokus-kerja?tag_from=wp_cb_mostPopular_list',\n",
       " 'https://news.detik.com/berita-jawa-barat/d-4846543/anak-balita-digigit-ikan-aligator-di-lapas-wanita-bandung?tag_from=wp_cb_mostPopular_list',\n",
       " 'https://hot.detik.com/celeb/d-4846397/rizky-febian-ungkap-detik-detik-kepergian-sang-ibunda?tag_from=wp_cb_mostPopular_list',\n",
       " 'https://news.detik.com/berita/d-4846575/begini-data-banjir-era-jokowi-ahok-djarot-anies?tag_from=wp_cb_mostPopular_list']"
      ]
     },
     "execution_count": 15,
     "metadata": {},
     "output_type": "execute_result"
    }
   ],
   "source": [
    "link_artikel"
   ]
  },
  {
   "cell_type": "code",
   "execution_count": null,
   "metadata": {},
   "outputs": [],
   "source": []
  }
 ],
 "metadata": {
  "kernelspec": {
   "display_name": "Python 3",
   "language": "python",
   "name": "python3"
  },
  "language_info": {
   "codemirror_mode": {
    "name": "ipython",
    "version": 3
   },
   "file_extension": ".py",
   "mimetype": "text/x-python",
   "name": "python",
   "nbconvert_exporter": "python",
   "pygments_lexer": "ipython3",
   "version": "3.6.9"
  }
 },
 "nbformat": 4,
 "nbformat_minor": 4
}
